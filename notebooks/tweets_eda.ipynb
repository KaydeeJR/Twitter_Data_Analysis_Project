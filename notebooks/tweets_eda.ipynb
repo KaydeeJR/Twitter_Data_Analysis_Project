{
 "cells": [
  {
   "attachments": {},
   "cell_type": "markdown",
   "metadata": {},
   "source": [
    "# **Table of Contents:**\n",
    "\n",
    "* [Folder Setup](#folder-setup)\n",
    "* [Reading data from MongoDB](#read)\n",
    "* [EDA](#eda)\n",
    "  * [Dataframe details](#dataframe-details)\n",
    "  * [Column values](#column-values)\n",
    "    * [Full text (string)](#full-text)\n",
    "    * [Created at (datetime)](#created-at)\n",
    "    * [Truncated (boolean)](#truncated)\n",
    "    * [Entities (dictionary)](#entities)\n",
    "    * [Metadata (dictionary)](#metadata)\n",
    "    * [In reply to status ID](#replies-to-status)\n",
    "    * [In reply to user ID](#replies-to-user)\n",
    "    * [In reply to screen name](#replies-to-screen)\n",
    "    * [User data (dictionary)](#user-data)\n",
    "    * [Location data (dictionary)](#location-data)\n",
    "    * [Retweeted data (dictionary)](#retweeted-data)\n",
    "    * [Quote status (boolean)](#quote-status)\n",
    "    * [Quoted status ids](#quoted-tweets)\n",
    "    * [Number of RTs (integer)](#retweet-count)\n",
    "    * [Retweeted (boolean)](#retweeted) \n",
    "    * [Favorite count (integer)](#favorite-count)\n",
    "    * [Favorite status (boolean)](#favorite)\n",
    "    * [Language (list)](#lang)\n",
    "    * [Sensitive tweets (boolean)](#sensitive-tweets)\n",
    "    * [Extended entities (dictionary)](#extended-entities)\n",
    "    * [Withheld in countries (list)](#countries-withheld)\n",
    "  * [Missing values](#missing-values)"
   ]
  },
  {
   "attachments": {},
   "cell_type": "markdown",
   "metadata": {},
   "source": [
    "# Folder setup <a class=\"anchor\" id=\"folder-setup\"></a>"
   ]
  },
  {
   "cell_type": "code",
   "execution_count": 1,
   "metadata": {},
   "outputs": [],
   "source": [
    "import os\n",
    "import sys"
   ]
  },
  {
   "cell_type": "code",
   "execution_count": 2,
   "metadata": {},
   "outputs": [],
   "source": [
    "directory_path = os.path.dirname(os.getcwd())\n",
    "sys.path.append(directory_path + \"\\\\utils\")\n",
    "sys.path.append(directory_path + \"\\\\scripts\")\n",
    "sys.path.append(directory_path + \"\\\\notebooks\")"
   ]
  },
  {
   "attachments": {},
   "cell_type": "markdown",
   "metadata": {},
   "source": [
    "MongoDB connection string is stored in .env folder"
   ]
  },
  {
   "cell_type": "code",
   "execution_count": 3,
   "metadata": {},
   "outputs": [
    {
     "data": {
      "text/plain": [
       "True"
      ]
     },
     "execution_count": 3,
     "metadata": {},
     "output_type": "execute_result"
    }
   ],
   "source": [
    "from dotenv import load_dotenv\n",
    "load_dotenv()"
   ]
  },
  {
   "attachments": {},
   "cell_type": "markdown",
   "metadata": {},
   "source": [
    "# Reading data from MongoDB <a class=\"anchor\" id=\"read\"></a>"
   ]
  },
  {
   "cell_type": "code",
   "execution_count": 4,
   "metadata": {},
   "outputs": [],
   "source": [
    "from read_docs import ReadDocs\n",
    "data_access = ReadDocs(os.environ.get('MONGODB_URI'))"
   ]
  },
  {
   "cell_type": "code",
   "execution_count": 5,
   "metadata": {},
   "outputs": [
    {
     "data": {
      "text/plain": [
       "['sample_airbnb',\n",
       " 'sample_analytics',\n",
       " 'sample_geospatial',\n",
       " 'sample_guides',\n",
       " 'sample_mflix',\n",
       " 'sample_restaurants',\n",
       " 'sample_supplies',\n",
       " 'sample_training',\n",
       " 'sample_weatherdata',\n",
       " 'tweets',\n",
       " 'admin',\n",
       " 'local']"
      ]
     },
     "execution_count": 5,
     "metadata": {},
     "output_type": "execute_result"
    }
   ],
   "source": [
    "data_access.list_databases()"
   ]
  },
  {
   "cell_type": "code",
   "execution_count": 6,
   "metadata": {},
   "outputs": [
    {
     "data": {
      "text/plain": [
       "['global', 'africa']"
      ]
     },
     "execution_count": 6,
     "metadata": {},
     "output_type": "execute_result"
    }
   ],
   "source": [
    "data_access.list_collections(\"tweets\")"
   ]
  },
  {
   "cell_type": "code",
   "execution_count": 7,
   "metadata": {},
   "outputs": [],
   "source": [
    "tweets_df = data_access.read_tweets_in_collection(\"tweets\",\"global\")"
   ]
  },
  {
   "attachments": {},
   "cell_type": "markdown",
   "metadata": {},
   "source": [
    "# EDA <a class=\"anchor\" id=\"eda\"></a>\n",
    "## Dataframe details <a class=\"anchor\" id=\"dataframe-details\"></a>"
   ]
  },
  {
   "cell_type": "code",
<<<<<<< HEAD
   "execution_count": 8,
=======
   "execution_count": 42,
>>>>>>> d06bdeef7e2d227bb594f2fa2dff0477f2688e1f
   "metadata": {},
   "outputs": [],
   "source": [
    "import pandas as pd\n",
    "import numpy as np\n",
    "\n",
    "import matplotlib.pyplot as plt\n",
    "import seaborn as sns"
   ]
  },
  {
   "cell_type": "code",
   "execution_count": 9,
   "metadata": {},
   "outputs": [
    {
     "name": "stdout",
     "output_type": "stream",
     "text": [
      "<class 'pandas.core.frame.DataFrame'>\n",
      "RangeIndex: 22000 entries, 0 to 21999\n",
      "Data columns (total 31 columns):\n",
      " #   Column                     Non-Null Count  Dtype         \n",
      "---  ------                     --------------  -----         \n",
      " 0   _id                        22000 non-null  int64         \n",
      " 1   created_at                 22000 non-null  datetime64[ns]\n",
      " 2   full_text                  22000 non-null  object        \n",
      " 3   truncated                  22000 non-null  bool          \n",
      " 4   display_text_range         22000 non-null  object        \n",
      " 5   entities                   22000 non-null  object        \n",
      " 6   metadata                   22000 non-null  object        \n",
      " 7   source                     22000 non-null  object        \n",
      " 8   in_reply_to_status_id      897 non-null    float64       \n",
      " 9   in_reply_to_status_id_str  897 non-null    float64       \n",
      " 10  in_reply_to_user_id        968 non-null    float64       \n",
      " 11  in_reply_to_user_id_str    968 non-null    float64       \n",
      " 12  in_reply_to_screen_name    968 non-null    object        \n",
      " 13  user                       22000 non-null  object        \n",
      " 14  geo                        0 non-null      float64       \n",
      " 15  coordinates                0 non-null      float64       \n",
      " 16  place                      117 non-null    object        \n",
      " 17  contributors               0 non-null      float64       \n",
      " 18  retweeted_status           17260 non-null  object        \n",
      " 19  is_quote_status            22000 non-null  bool          \n",
      " 20  retweet_count              22000 non-null  int64         \n",
      " 21  favorite_count             22000 non-null  int64         \n",
      " 22  favorited                  22000 non-null  bool          \n",
      " 23  retweeted                  22000 non-null  bool          \n",
      " 24  lang                       22000 non-null  object        \n",
      " 25  possibly_sensitive         6191 non-null   float64       \n",
      " 26  extended_entities          3359 non-null   object        \n",
      " 27  quoted_status_id           1393 non-null   float64       \n",
      " 28  quoted_status_id_str       1393 non-null   float64       \n",
      " 29  quoted_status              682 non-null    object        \n",
      " 30  withheld_in_countries      22 non-null     object        \n",
      "dtypes: bool(4), datetime64[ns](1), float64(10), int64(3), object(13)\n",
      "memory usage: 4.6+ MB\n"
     ]
    }
   ],
   "source": [
    "tweets_df.info()"
   ]
  },
  {
   "cell_type": "code",
   "execution_count": 10,
   "metadata": {},
   "outputs": [
    {
     "data": {
      "text/html": [
       "<div>\n",
       "<style scoped>\n",
       "    .dataframe tbody tr th:only-of-type {\n",
       "        vertical-align: middle;\n",
       "    }\n",
       "\n",
       "    .dataframe tbody tr th {\n",
       "        vertical-align: top;\n",
       "    }\n",
       "\n",
       "    .dataframe thead th {\n",
       "        text-align: right;\n",
       "    }\n",
       "</style>\n",
       "<table border=\"1\" class=\"dataframe\">\n",
       "  <thead>\n",
       "    <tr style=\"text-align: right;\">\n",
       "      <th></th>\n",
       "      <th>_id</th>\n",
       "      <th>created_at</th>\n",
       "      <th>full_text</th>\n",
       "      <th>truncated</th>\n",
       "      <th>display_text_range</th>\n",
       "      <th>entities</th>\n",
       "      <th>metadata</th>\n",
       "      <th>source</th>\n",
       "      <th>in_reply_to_status_id</th>\n",
       "      <th>in_reply_to_status_id_str</th>\n",
       "      <th>...</th>\n",
       "      <th>favorite_count</th>\n",
       "      <th>favorited</th>\n",
       "      <th>retweeted</th>\n",
       "      <th>lang</th>\n",
       "      <th>possibly_sensitive</th>\n",
       "      <th>extended_entities</th>\n",
       "      <th>quoted_status_id</th>\n",
       "      <th>quoted_status_id_str</th>\n",
       "      <th>quoted_status</th>\n",
       "      <th>withheld_in_countries</th>\n",
       "    </tr>\n",
       "  </thead>\n",
       "  <tbody>\n",
       "    <tr>\n",
       "      <th>0</th>\n",
       "      <td>1556407673284861952</td>\n",
       "      <td>2022-08-07 22:31:20</td>\n",
       "      <td>RT @i_ameztoy: Extra random image (I):\\n\\nLets...</td>\n",
       "      <td>False</td>\n",
       "      <td>[0, 143]</td>\n",
       "      <td>{'hashtags': [{'text': 'City', 'indices': [132...</td>\n",
       "      <td>{'iso_language_code': 'en', 'result_type': 're...</td>\n",
       "      <td>&lt;a href=\"http://twitter.com/download/android\" ...</td>\n",
       "      <td>NaN</td>\n",
       "      <td>NaN</td>\n",
       "      <td>...</td>\n",
       "      <td>0</td>\n",
       "      <td>False</td>\n",
       "      <td>False</td>\n",
       "      <td>en</td>\n",
       "      <td>NaN</td>\n",
       "      <td>NaN</td>\n",
       "      <td>NaN</td>\n",
       "      <td>NaN</td>\n",
       "      <td>NaN</td>\n",
       "      <td>NaN</td>\n",
       "    </tr>\n",
       "    <tr>\n",
       "      <th>1</th>\n",
       "      <td>1556407654373027840</td>\n",
       "      <td>2022-08-07 22:31:16</td>\n",
       "      <td>RT @IndoPac_Info: #China's media explains the ...</td>\n",
       "      <td>False</td>\n",
       "      <td>[0, 140]</td>\n",
       "      <td>{'hashtags': [{'text': 'China', 'indices': [18...</td>\n",
       "      <td>{'iso_language_code': 'en', 'result_type': 're...</td>\n",
       "      <td>&lt;a href=\"http://twitter.com/download/android\" ...</td>\n",
       "      <td>NaN</td>\n",
       "      <td>NaN</td>\n",
       "      <td>...</td>\n",
       "      <td>0</td>\n",
       "      <td>False</td>\n",
       "      <td>False</td>\n",
       "      <td>en</td>\n",
       "      <td>NaN</td>\n",
       "      <td>NaN</td>\n",
       "      <td>NaN</td>\n",
       "      <td>NaN</td>\n",
       "      <td>NaN</td>\n",
       "      <td>NaN</td>\n",
       "    </tr>\n",
       "    <tr>\n",
       "      <th>2</th>\n",
       "      <td>1556407616208773122</td>\n",
       "      <td>2022-08-07 22:31:07</td>\n",
       "      <td>China even cut off communication, they don't a...</td>\n",
       "      <td>False</td>\n",
       "      <td>[0, 161]</td>\n",
       "      <td>{'hashtags': [{'text': 'XiJinping', 'indices':...</td>\n",
       "      <td>{'iso_language_code': 'en', 'result_type': 're...</td>\n",
       "      <td>&lt;a href=\"http://twitter.com/download/android\" ...</td>\n",
       "      <td>1.556408e+18</td>\n",
       "      <td>1.556408e+18</td>\n",
       "      <td>...</td>\n",
       "      <td>0</td>\n",
       "      <td>False</td>\n",
       "      <td>False</td>\n",
       "      <td>en</td>\n",
       "      <td>NaN</td>\n",
       "      <td>NaN</td>\n",
       "      <td>NaN</td>\n",
       "      <td>NaN</td>\n",
       "      <td>NaN</td>\n",
       "      <td>NaN</td>\n",
       "    </tr>\n",
       "    <tr>\n",
       "      <th>3</th>\n",
       "      <td>1556407614602461185</td>\n",
       "      <td>2022-08-07 22:31:06</td>\n",
       "      <td>Putin to #XiJinping : I told you my friend, Ta...</td>\n",
       "      <td>False</td>\n",
       "      <td>[0, 179]</td>\n",
       "      <td>{'hashtags': [{'text': 'XiJinping', 'indices':...</td>\n",
       "      <td>{'iso_language_code': 'en', 'result_type': 're...</td>\n",
       "      <td>&lt;a href=\"http://twitter.com/download/android\" ...</td>\n",
       "      <td>NaN</td>\n",
       "      <td>NaN</td>\n",
       "      <td>...</td>\n",
       "      <td>0</td>\n",
       "      <td>False</td>\n",
       "      <td>False</td>\n",
       "      <td>en</td>\n",
       "      <td>NaN</td>\n",
       "      <td>NaN</td>\n",
       "      <td>NaN</td>\n",
       "      <td>NaN</td>\n",
       "      <td>NaN</td>\n",
       "      <td>NaN</td>\n",
       "    </tr>\n",
       "    <tr>\n",
       "      <th>4</th>\n",
       "      <td>1556407604238245889</td>\n",
       "      <td>2022-08-07 22:31:04</td>\n",
       "      <td>RT @ChinaUncensored: I’m sorry, I thought Taiw...</td>\n",
       "      <td>False</td>\n",
       "      <td>[0, 140]</td>\n",
       "      <td>{'hashtags': [], 'symbols': [], 'user_mentions...</td>\n",
       "      <td>{'iso_language_code': 'en', 'result_type': 're...</td>\n",
       "      <td>&lt;a href=\"http://twitter.com/download/iphone\" r...</td>\n",
       "      <td>NaN</td>\n",
       "      <td>NaN</td>\n",
       "      <td>...</td>\n",
       "      <td>0</td>\n",
       "      <td>False</td>\n",
       "      <td>False</td>\n",
       "      <td>en</td>\n",
       "      <td>NaN</td>\n",
       "      <td>NaN</td>\n",
       "      <td>NaN</td>\n",
       "      <td>NaN</td>\n",
       "      <td>NaN</td>\n",
       "      <td>NaN</td>\n",
       "    </tr>\n",
       "  </tbody>\n",
       "</table>\n",
       "<p>5 rows × 31 columns</p>\n",
       "</div>"
      ],
      "text/plain": [
       "                   _id          created_at  \\\n",
       "0  1556407673284861952 2022-08-07 22:31:20   \n",
       "1  1556407654373027840 2022-08-07 22:31:16   \n",
       "2  1556407616208773122 2022-08-07 22:31:07   \n",
       "3  1556407614602461185 2022-08-07 22:31:06   \n",
       "4  1556407604238245889 2022-08-07 22:31:04   \n",
       "\n",
       "                                           full_text  truncated  \\\n",
       "0  RT @i_ameztoy: Extra random image (I):\\n\\nLets...      False   \n",
       "1  RT @IndoPac_Info: #China's media explains the ...      False   \n",
       "2  China even cut off communication, they don't a...      False   \n",
       "3  Putin to #XiJinping : I told you my friend, Ta...      False   \n",
       "4  RT @ChinaUncensored: I’m sorry, I thought Taiw...      False   \n",
       "\n",
       "  display_text_range                                           entities  \\\n",
       "0           [0, 143]  {'hashtags': [{'text': 'City', 'indices': [132...   \n",
       "1           [0, 140]  {'hashtags': [{'text': 'China', 'indices': [18...   \n",
       "2           [0, 161]  {'hashtags': [{'text': 'XiJinping', 'indices':...   \n",
       "3           [0, 179]  {'hashtags': [{'text': 'XiJinping', 'indices':...   \n",
       "4           [0, 140]  {'hashtags': [], 'symbols': [], 'user_mentions...   \n",
       "\n",
       "                                            metadata  \\\n",
       "0  {'iso_language_code': 'en', 'result_type': 're...   \n",
       "1  {'iso_language_code': 'en', 'result_type': 're...   \n",
       "2  {'iso_language_code': 'en', 'result_type': 're...   \n",
       "3  {'iso_language_code': 'en', 'result_type': 're...   \n",
       "4  {'iso_language_code': 'en', 'result_type': 're...   \n",
       "\n",
       "                                              source  in_reply_to_status_id  \\\n",
       "0  <a href=\"http://twitter.com/download/android\" ...                    NaN   \n",
       "1  <a href=\"http://twitter.com/download/android\" ...                    NaN   \n",
       "2  <a href=\"http://twitter.com/download/android\" ...           1.556408e+18   \n",
       "3  <a href=\"http://twitter.com/download/android\" ...                    NaN   \n",
       "4  <a href=\"http://twitter.com/download/iphone\" r...                    NaN   \n",
       "\n",
       "   in_reply_to_status_id_str  ...  favorite_count  favorited retweeted lang  \\\n",
       "0                        NaN  ...               0      False     False   en   \n",
       "1                        NaN  ...               0      False     False   en   \n",
       "2               1.556408e+18  ...               0      False     False   en   \n",
       "3                        NaN  ...               0      False     False   en   \n",
       "4                        NaN  ...               0      False     False   en   \n",
       "\n",
       "   possibly_sensitive  extended_entities quoted_status_id  \\\n",
       "0                 NaN                NaN              NaN   \n",
       "1                 NaN                NaN              NaN   \n",
       "2                 NaN                NaN              NaN   \n",
       "3                 NaN                NaN              NaN   \n",
       "4                 NaN                NaN              NaN   \n",
       "\n",
       "   quoted_status_id_str quoted_status  withheld_in_countries  \n",
       "0                   NaN           NaN                    NaN  \n",
       "1                   NaN           NaN                    NaN  \n",
       "2                   NaN           NaN                    NaN  \n",
       "3                   NaN           NaN                    NaN  \n",
       "4                   NaN           NaN                    NaN  \n",
       "\n",
       "[5 rows x 31 columns]"
      ]
     },
     "execution_count": 10,
     "metadata": {},
     "output_type": "execute_result"
    }
   ],
   "source": [
    "tweets_df.head()"
   ]
  },
  {
   "cell_type": "code",
   "execution_count": 11,
   "metadata": {},
   "outputs": [
    {
     "data": {
      "text/plain": [
       "(22000, 31)"
      ]
     },
     "execution_count": 11,
     "metadata": {},
     "output_type": "execute_result"
    }
   ],
   "source": [
    "tweets_df.shape"
   ]
  },
  {
   "attachments": {},
   "cell_type": "markdown",
   "metadata": {},
   "source": [
    "22000 rows, 31 columns"
   ]
  },
  {
   "cell_type": "code",
   "execution_count": 12,
   "metadata": {},
   "outputs": [
    {
     "data": {
      "text/plain": [
       "['_id',\n",
       " 'created_at',\n",
       " 'full_text',\n",
       " 'truncated',\n",
       " 'display_text_range',\n",
       " 'entities',\n",
       " 'metadata',\n",
       " 'source',\n",
       " 'in_reply_to_status_id',\n",
       " 'in_reply_to_status_id_str',\n",
       " 'in_reply_to_user_id',\n",
       " 'in_reply_to_user_id_str',\n",
       " 'in_reply_to_screen_name',\n",
       " 'user',\n",
       " 'geo',\n",
       " 'coordinates',\n",
       " 'place',\n",
       " 'contributors',\n",
       " 'retweeted_status',\n",
       " 'is_quote_status',\n",
       " 'retweet_count',\n",
       " 'favorite_count',\n",
       " 'favorited',\n",
       " 'retweeted',\n",
       " 'lang',\n",
       " 'possibly_sensitive',\n",
       " 'extended_entities',\n",
       " 'quoted_status_id',\n",
       " 'quoted_status_id_str',\n",
       " 'quoted_status',\n",
       " 'withheld_in_countries']"
      ]
     },
     "execution_count": 12,
     "metadata": {},
     "output_type": "execute_result"
    }
   ],
   "source": [
    "list(tweets_df.columns)"
   ]
  },
  {
   "attachments": {},
   "cell_type": "markdown",
   "metadata": {},
   "source": [
    "## Column values <a class=\"anchor\" id=\"column-values\"></a>"
   ]
  },
  {
   "attachments": {},
   "cell_type": "markdown",
   "metadata": {},
   "source": [
    "### Full text (string) <a class=\"anchor\" id=\"full-text\"></a>"
   ]
  },
  {
   "cell_type": "code",
   "execution_count": 13,
   "metadata": {},
   "outputs": [
    {
     "data": {
      "text/plain": [
       "'RT @i_ameztoy: Extra random image (I):\\n\\nLets focus in one very specific zone of the western coast -&gt; Longjing District, Taichung #City, #Ta…'"
      ]
     },
     "execution_count": 13,
     "metadata": {},
     "output_type": "execute_result"
    }
   ],
   "source": [
    "tweets_df[\"full_text\"][0]"
   ]
  },
  {
   "attachments": {},
   "cell_type": "markdown",
   "metadata": {},
   "source": [
    "__These texts require preprocessing__"
   ]
  },
  {
   "attachments": {},
   "cell_type": "markdown",
   "metadata": {},
   "source": [
    "### Created at (datetime)<a class=\"anchor\" id=\"created-at\"></a>"
   ]
  },
  {
   "cell_type": "code",
   "execution_count": 14,
   "metadata": {},
   "outputs": [
    {
     "data": {
      "text/plain": [
       "'Latest tweet date'"
      ]
     },
     "metadata": {},
     "output_type": "display_data"
    },
    {
     "data": {
      "text/plain": [
       "Timestamp('2022-08-07 22:31:20')"
      ]
     },
     "metadata": {},
     "output_type": "display_data"
    },
    {
     "data": {
      "text/plain": [
       "'Earliest tweet date'"
      ]
     },
     "metadata": {},
     "output_type": "display_data"
    },
    {
     "data": {
      "text/plain": [
       "Timestamp('2022-08-06 18:03:25')"
      ]
     },
     "metadata": {},
     "output_type": "display_data"
    },
    {
     "data": {
      "text/plain": [
       "'Time difference'"
      ]
     },
     "metadata": {},
     "output_type": "display_data"
    },
    {
     "data": {
      "text/plain": [
       "Timedelta('1 days 04:27:55')"
      ]
     },
     "metadata": {},
     "output_type": "display_data"
    }
   ],
   "source": [
    "display(\"Latest tweet date\", max(tweets_df[\"created_at\"]))\n",
    "display(\"Earliest tweet date\", min(tweets_df[\"created_at\"]))\n",
    "\n",
    "display(\"Time difference\", max(tweets_df[\"created_at\"])-min(tweets_df[\"created_at\"]))"
   ]
  },
  {
   "attachments": {},
   "cell_type": "markdown",
   "metadata": {},
   "source": [
    "Tweets collected between 6th August and 7th August of the same year."
   ]
  },
  {
   "cell_type": "code",
   "execution_count": 15,
   "metadata": {},
   "outputs": [
    {
     "data": {
      "text/html": [
       "<div>\n",
       "<style scoped>\n",
       "    .dataframe tbody tr th:only-of-type {\n",
       "        vertical-align: middle;\n",
       "    }\n",
       "\n",
       "    .dataframe tbody tr th {\n",
       "        vertical-align: top;\n",
       "    }\n",
       "\n",
       "    .dataframe thead th {\n",
       "        text-align: right;\n",
       "    }\n",
       "</style>\n",
       "<table border=\"1\" class=\"dataframe\">\n",
       "  <thead>\n",
       "    <tr style=\"text-align: right;\">\n",
       "      <th></th>\n",
       "      <th>day</th>\n",
       "      <th>hour_of_day</th>\n",
       "      <th>minute</th>\n",
       "      <th>second</th>\n",
       "    </tr>\n",
       "  </thead>\n",
       "  <tbody>\n",
       "    <tr>\n",
       "      <th>0</th>\n",
       "      <td>7</td>\n",
       "      <td>22</td>\n",
       "      <td>31</td>\n",
       "      <td>20</td>\n",
       "    </tr>\n",
       "    <tr>\n",
       "      <th>1</th>\n",
       "      <td>7</td>\n",
       "      <td>22</td>\n",
       "      <td>31</td>\n",
       "      <td>16</td>\n",
       "    </tr>\n",
       "    <tr>\n",
       "      <th>2</th>\n",
       "      <td>7</td>\n",
       "      <td>22</td>\n",
       "      <td>31</td>\n",
       "      <td>7</td>\n",
       "    </tr>\n",
       "    <tr>\n",
       "      <th>3</th>\n",
       "      <td>7</td>\n",
       "      <td>22</td>\n",
       "      <td>31</td>\n",
       "      <td>6</td>\n",
       "    </tr>\n",
       "    <tr>\n",
       "      <th>4</th>\n",
       "      <td>7</td>\n",
       "      <td>22</td>\n",
       "      <td>31</td>\n",
       "      <td>4</td>\n",
       "    </tr>\n",
       "    <tr>\n",
       "      <th>...</th>\n",
       "      <td>...</td>\n",
       "      <td>...</td>\n",
       "      <td>...</td>\n",
       "      <td>...</td>\n",
       "    </tr>\n",
       "    <tr>\n",
       "      <th>21995</th>\n",
       "      <td>6</td>\n",
       "      <td>18</td>\n",
       "      <td>3</td>\n",
       "      <td>29</td>\n",
       "    </tr>\n",
       "    <tr>\n",
       "      <th>21996</th>\n",
       "      <td>6</td>\n",
       "      <td>18</td>\n",
       "      <td>3</td>\n",
       "      <td>27</td>\n",
       "    </tr>\n",
       "    <tr>\n",
       "      <th>21997</th>\n",
       "      <td>6</td>\n",
       "      <td>18</td>\n",
       "      <td>3</td>\n",
       "      <td>27</td>\n",
       "    </tr>\n",
       "    <tr>\n",
       "      <th>21998</th>\n",
       "      <td>6</td>\n",
       "      <td>18</td>\n",
       "      <td>3</td>\n",
       "      <td>26</td>\n",
       "    </tr>\n",
       "    <tr>\n",
       "      <th>21999</th>\n",
       "      <td>6</td>\n",
       "      <td>18</td>\n",
       "      <td>3</td>\n",
       "      <td>25</td>\n",
       "    </tr>\n",
       "  </tbody>\n",
       "</table>\n",
       "<p>22000 rows × 4 columns</p>\n",
       "</div>"
      ],
      "text/plain": [
       "       day  hour_of_day  minute  second\n",
       "0        7           22      31      20\n",
       "1        7           22      31      16\n",
       "2        7           22      31       7\n",
       "3        7           22      31       6\n",
       "4        7           22      31       4\n",
       "...    ...          ...     ...     ...\n",
       "21995    6           18       3      29\n",
       "21996    6           18       3      27\n",
       "21997    6           18       3      27\n",
       "21998    6           18       3      26\n",
       "21999    6           18       3      25\n",
       "\n",
       "[22000 rows x 4 columns]"
      ]
     },
     "metadata": {},
     "output_type": "display_data"
    },
    {
     "data": {
      "text/html": [
       "<div>\n",
       "<style scoped>\n",
       "    .dataframe tbody tr th:only-of-type {\n",
       "        vertical-align: middle;\n",
       "    }\n",
       "\n",
       "    .dataframe tbody tr th {\n",
       "        vertical-align: top;\n",
       "    }\n",
       "\n",
       "    .dataframe thead th {\n",
       "        text-align: right;\n",
       "    }\n",
       "</style>\n",
       "<table border=\"1\" class=\"dataframe\">\n",
       "  <thead>\n",
       "    <tr style=\"text-align: right;\">\n",
       "      <th></th>\n",
       "      <th>created_at</th>\n",
       "    </tr>\n",
       "  </thead>\n",
       "  <tbody>\n",
       "    <tr>\n",
       "      <th>0</th>\n",
       "      <td>2022-08-07 22:31:20</td>\n",
       "    </tr>\n",
       "    <tr>\n",
       "      <th>1</th>\n",
       "      <td>2022-08-07 22:31:16</td>\n",
       "    </tr>\n",
       "    <tr>\n",
       "      <th>2</th>\n",
       "      <td>2022-08-07 22:31:07</td>\n",
       "    </tr>\n",
       "    <tr>\n",
       "      <th>3</th>\n",
       "      <td>2022-08-07 22:31:06</td>\n",
       "    </tr>\n",
       "    <tr>\n",
       "      <th>4</th>\n",
       "      <td>2022-08-07 22:31:04</td>\n",
       "    </tr>\n",
       "    <tr>\n",
       "      <th>...</th>\n",
       "      <td>...</td>\n",
       "    </tr>\n",
       "    <tr>\n",
       "      <th>21995</th>\n",
       "      <td>2022-08-06 18:03:29</td>\n",
       "    </tr>\n",
       "    <tr>\n",
       "      <th>21996</th>\n",
       "      <td>2022-08-06 18:03:27</td>\n",
       "    </tr>\n",
       "    <tr>\n",
       "      <th>21997</th>\n",
       "      <td>2022-08-06 18:03:27</td>\n",
       "    </tr>\n",
       "    <tr>\n",
       "      <th>21998</th>\n",
       "      <td>2022-08-06 18:03:26</td>\n",
       "    </tr>\n",
       "    <tr>\n",
       "      <th>21999</th>\n",
       "      <td>2022-08-06 18:03:25</td>\n",
       "    </tr>\n",
       "  </tbody>\n",
       "</table>\n",
       "<p>22000 rows × 1 columns</p>\n",
       "</div>"
      ],
      "text/plain": [
       "               created_at\n",
       "0     2022-08-07 22:31:20\n",
       "1     2022-08-07 22:31:16\n",
       "2     2022-08-07 22:31:07\n",
       "3     2022-08-07 22:31:06\n",
       "4     2022-08-07 22:31:04\n",
       "...                   ...\n",
       "21995 2022-08-06 18:03:29\n",
       "21996 2022-08-06 18:03:27\n",
       "21997 2022-08-06 18:03:27\n",
       "21998 2022-08-06 18:03:26\n",
       "21999 2022-08-06 18:03:25\n",
       "\n",
       "[22000 rows x 1 columns]"
      ]
     },
     "metadata": {},
     "output_type": "display_data"
    }
   ],
   "source": [
    "tweets_df[\"day\"] = tweets_df[\"created_at\"].dt.day\n",
    "tweets_df[\"hour_of_day\"] = tweets_df[\"created_at\"].dt.hour\n",
    "tweets_df[\"minute\"] = tweets_df[\"created_at\"].dt.minute\n",
    "tweets_df[\"second\"] = tweets_df[\"created_at\"].dt.second\n",
    "# Concatenate all datetime data\n",
    "display(tweets_df.iloc[:, 31:])\n",
    "display(tweets_df[[\"created_at\"]])"
   ]
  },
  {
   "cell_type": "code",
<<<<<<< HEAD
   "execution_count": 16,
=======
   "execution_count": 96,
>>>>>>> d06bdeef7e2d227bb594f2fa2dff0477f2688e1f
   "metadata": {},
   "outputs": [
    {
     "data": {
      "image/png": "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",
      "text/plain": [
       "<Figure size 1200x400 with 1 Axes>"
      ]
     },
     "metadata": {},
     "output_type": "display_data"
    }
   ],
   "source": [
    "fig, axs = plt.subplots(figsize=(12, 4))\n",
    "tweets_df.groupby(tweets_df[\"day\"])[\"_id\"].count().plot(kind='bar', rot=0, ax=axs)\n",
    "plt.xlabel(\"Day\") \n",
    "plt.ylabel(\"Number of Tweets\")\n",
    "plt.title(\"Number of Tweets made on each day\")\n",
    "plt.show()"
   ]
  },
  {
   "attachments": {},
   "cell_type": "markdown",
   "metadata": {},
   "source": [
    "Most of these tweets were posted on 7th August 2022"
   ]
  },
  {
   "cell_type": "code",
<<<<<<< HEAD
   "execution_count": 17,
=======
   "execution_count": 97,
>>>>>>> d06bdeef7e2d227bb594f2fa2dff0477f2688e1f
   "metadata": {},
   "outputs": [
    {
     "data": {
      "image/png": "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",
      "text/plain": [
       "<Figure size 1200x400 with 1 Axes>"
      ]
     },
     "metadata": {},
     "output_type": "display_data"
    }
   ],
   "source": [
    "fig, axs = plt.subplots(figsize=(12, 4))\n",
    "tweets_df.groupby(tweets_df[\"hour_of_day\"])[\"_id\"].count().plot(kind='bar', rot=0, ax=axs)\n",
    "plt.xlabel(\"Hour of the day\") \n",
    "plt.ylabel(\"Number of tweets\")\n",
    "plt.title(\"Number of Tweets made during the course of a day\")\n",
    "plt.show()"
   ]
  },
  {
   "attachments": {},
   "cell_type": "markdown",
   "metadata": {},
   "source": [
    "Most tweets were posted at 6 p.m. regardless of the day (whether 6th August 2022 or 7th August 2022) "
   ]
  },
  {
   "attachments": {},
   "cell_type": "markdown",
   "metadata": {},
   "source": [
    "### Truncated(boolean) <a class=\"anchor\" id=\"truncated\"></a>"
   ]
  },
  {
   "cell_type": "code",
   "execution_count": 18,
   "metadata": {},
   "outputs": [
    {
     "data": {
      "text/plain": [
       "truncated\n",
       "False    22000\n",
       "Name: count, dtype: int64"
      ]
     },
     "execution_count": 18,
     "metadata": {},
     "output_type": "execute_result"
    }
   ],
   "source": [
    "tweets_df[\"truncated\"].value_counts()"
   ]
  },
  {
   "attachments": {},
   "cell_type": "markdown",
   "metadata": {},
   "source": [
    "None of the tweets are long enough to be truncated"
   ]
  },
  {
   "attachments": {},
   "cell_type": "markdown",
   "metadata": {},
   "source": [
    "### Entities <a class=\"anchor\" id=\"entities\"></a>"
   ]
  },
  {
   "cell_type": "code",
   "execution_count": 19,
   "metadata": {},
   "outputs": [
    {
     "data": {
      "text/plain": [
       "{'hashtags': [{'text': 'WWIII', 'indices': [28, 34]},\n",
       "  {'text': 'Taiwan', 'indices': [50, 57]}],\n",
       " 'symbols': [],\n",
       " 'user_mentions': [{'screen_name': 'anku5hdilraaj_',\n",
       "   'name': 'ANKUSH',\n",
       "   'id': 1309098996821045248,\n",
       "   'id_str': '1309098996821045248',\n",
       "   'indices': [3, 18]}],\n",
       " 'urls': [],\n",
       " 'media': [{'id': 1554466171637927936,\n",
       "   'id_str': '1554466171637927936',\n",
       "   'indices': [58, 81],\n",
       "   'media_url': 'http://pbs.twimg.com/media/FZKSv0fXEAA-OmF.jpg',\n",
       "   'media_url_https': 'https://pbs.twimg.com/media/FZKSv0fXEAA-OmF.jpg',\n",
       "   'url': 'https://t.co/oomVltBmKF',\n",
       "   'display_url': 'pic.twitter.com/oomVltBmKF',\n",
       "   'expanded_url': 'https://twitter.com/anku5hdilraaj_/status/1554466174666436608/photo/1',\n",
       "   'type': 'photo',\n",
       "   'sizes': {'thumb': {'w': 150, 'h': 150, 'resize': 'crop'},\n",
       "    'large': {'w': 739, 'h': 415, 'resize': 'fit'},\n",
       "    'small': {'w': 680, 'h': 382, 'resize': 'fit'},\n",
       "    'medium': {'w': 739, 'h': 415, 'resize': 'fit'}},\n",
       "   'source_status_id': 1554466174666436608,\n",
       "   'source_status_id_str': '1554466174666436608',\n",
       "   'source_user_id': 1309098996821045248,\n",
       "   'source_user_id_str': '1309098996821045248'}]}"
      ]
     },
     "execution_count": 19,
     "metadata": {},
     "output_type": "execute_result"
    }
   ],
   "source": [
    "tweets_df[\"entities\"][100]"
   ]
  },
  {
   "attachments": {},
   "cell_type": "markdown",
   "metadata": {},
   "source": [
    "Entities are JSON data with the following fields:\n",
    "- hashtags and their positions\n",
    "- symbols\n",
    "- user_mentions\n",
    "- urls\n",
    "- media\n",
    "- source_status_id\n",
    "- source_user_id"
   ]
  },
  {
   "attachments": {},
   "cell_type": "markdown",
   "metadata": {},
   "source": [
    "### Metadata <a class=\"anchor\" id=\"metadata\"></a>"
   ]
  },
  {
   "cell_type": "code",
   "execution_count": 20,
   "metadata": {},
   "outputs": [
    {
     "data": {
      "text/plain": [
       "{'iso_language_code': 'en', 'result_type': 'recent'}"
      ]
     },
     "execution_count": 20,
     "metadata": {},
     "output_type": "execute_result"
    }
   ],
   "source": [
    "tweets_df[\"metadata\"][1000]"
   ]
  },
  {
   "attachments": {},
   "cell_type": "markdown",
   "metadata": {},
   "source": [
    "Metadata are JSON data with the following fields:\n",
    "- iso_language_code\n",
    "- result_type"
   ]
  },
  {
   "attachments": {},
   "cell_type": "markdown",
   "metadata": {},
   "source": [
    "### In reply to status ID <a class=\"anchor\" id=\"replies-to-status\"></a>"
   ]
  },
  {
   "cell_type": "code",
<<<<<<< HEAD
   "execution_count": 21,
=======
   "execution_count": 63,
>>>>>>> d06bdeef7e2d227bb594f2fa2dff0477f2688e1f
   "metadata": {},
   "outputs": [
    {
     "data": {
      "text/plain": [
       "in_reply_to_status_id_str\n",
       "1.556286e+18    12\n",
       "1.556289e+18     7\n",
       "1.556114e+18     6\n",
       "1.556304e+18     6\n",
       "1.556323e+18     5\n",
       "                ..\n",
       "1.556037e+18     1\n",
       "1.556272e+18     1\n",
       "1.556268e+18     1\n",
       "1.552997e+18     1\n",
       "1.555729e+18     1\n",
       "Name: count, Length: 779, dtype: int64"
      ]
     },
<<<<<<< HEAD
     "execution_count": 21,
=======
     "execution_count": 63,
>>>>>>> d06bdeef7e2d227bb594f2fa2dff0477f2688e1f
     "metadata": {},
     "output_type": "execute_result"
    }
   ],
   "source": [
    "tweets_df[\"in_reply_to_status_id_str\"].value_counts()"
   ]
  },
  {
   "attachments": {},
   "cell_type": "markdown",
   "metadata": {},
   "source": [
    "12 replies to status with id 1.556286e+18"
   ]
  },
  {
   "attachments": {},
   "cell_type": "markdown",
   "metadata": {},
   "source": [
    "### In reply to user ID <a class=\"anchor\" id=\"replies-to-user\"></a>"
   ]
  },
  {
   "cell_type": "code",
<<<<<<< HEAD
   "execution_count": 22,
=======
   "execution_count": 86,
>>>>>>> d06bdeef7e2d227bb594f2fa2dff0477f2688e1f
   "metadata": {},
   "outputs": [
    {
     "data": {
      "text/plain": [
       "in_reply_to_user_id_str\n",
       "1.183698e+18    41\n",
       "1.222894e+18    26\n",
       "4.961627e+07    25\n",
       "1.652541e+06    17\n",
       "1.267797e+18    15\n",
       "                ..\n",
       "9.687787e+17     1\n",
       "1.266037e+18     1\n",
       "6.399991e+07     1\n",
       "1.481010e+18     1\n",
       "8.782141e+17     1\n",
       "Name: count, Length: 556, dtype: int64"
      ]
     },
<<<<<<< HEAD
     "execution_count": 22,
=======
     "execution_count": 86,
>>>>>>> d06bdeef7e2d227bb594f2fa2dff0477f2688e1f
     "metadata": {},
     "output_type": "execute_result"
    }
   ],
   "source": [
    "tweets_df[\"in_reply_to_user_id_str\"].value_counts()"
   ]
  },
  {
   "attachments": {},
   "cell_type": "markdown",
   "metadata": {},
   "source": [
    "41 replies to user with id 1.183698e+18"
   ]
  },
  {
   "attachments": {},
   "cell_type": "markdown",
   "metadata": {},
   "source": [
    "### In reply to screen name <a class=\"anchor\" id=\"replies-to-screen\"></a> "
   ]
  },
  {
   "cell_type": "code",
<<<<<<< HEAD
   "execution_count": 23,
=======
   "execution_count": 77,
>>>>>>> d06bdeef7e2d227bb594f2fa2dff0477f2688e1f
   "metadata": {},
   "outputs": [
    {
     "data": {
      "text/plain": [
       "in_reply_to_screen_name\n",
       "SpokespersonCHN    41\n",
       "CGMeifangZhang     26\n",
       "globaltimesnews    25\n",
       "Reuters            17\n",
       "AarianNewsX        15\n",
       "                   ..\n",
       "Ahmad20023708       1\n",
       "Australian_Navy     1\n",
       "rajan_menon_        1\n",
       "RogerTh47521165     1\n",
       "kiwispillow         1\n",
       "Name: count, Length: 557, dtype: int64"
      ]
     },
<<<<<<< HEAD
     "execution_count": 23,
=======
     "execution_count": 77,
>>>>>>> d06bdeef7e2d227bb594f2fa2dff0477f2688e1f
     "metadata": {},
     "output_type": "execute_result"
    }
   ],
   "source": [
    "tweets_df[\"in_reply_to_screen_name\"].value_counts()"
   ]
  },
  {
   "attachments": {},
   "cell_type": "markdown",
   "metadata": {},
   "source": [
    "Top 10 Screen names that have been replied to"
   ]
  },
  {
   "cell_type": "code",
<<<<<<< HEAD
   "execution_count": 24,
=======
   "execution_count": 94,
>>>>>>> d06bdeef7e2d227bb594f2fa2dff0477f2688e1f
   "metadata": {},
   "outputs": [
    {
     "data": {
      "image/png": "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",
      "text/plain": [
       "<Figure size 640x480 with 1 Axes>"
      ]
     },
     "metadata": {},
     "output_type": "display_data"
    }
   ],
   "source": [
    "plt.bar(tweets_df[\"in_reply_to_screen_name\"].value_counts().iloc[:10].index, tweets_df[\"in_reply_to_screen_name\"].value_counts().iloc[:10].values, \n",
    "color ='maroon',width = 0.4)\n",
    "plt.xticks(rotation=90)\n",
    "plt.title(\"Screen names that have been replied to\")\n",
    "plt.show()"
   ]
  },
  {
   "attachments": {},
   "cell_type": "markdown",
   "metadata": {},
   "source": [
    "### User data (dictionary) <a class=\"anchor\" id=\"user-data\"></a> "
   ]
  },
  {
   "cell_type": "code",
<<<<<<< HEAD
   "execution_count": 25,
=======
   "execution_count": 24,
>>>>>>> d06bdeef7e2d227bb594f2fa2dff0477f2688e1f
   "metadata": {},
   "outputs": [
    {
     "data": {
      "text/plain": [
       "{'id': 1003562923,\n",
       " 'id_str': '1003562923',\n",
       " 'name': 'Earth Is Not Flat',\n",
       " 'screen_name': 'ZIisq',\n",
       " 'location': '',\n",
       " 'description': \"○Take your Vaccine. \\n●Earth is Not Flat, your brain are. \\n○I'm still single\",\n",
       " 'url': None,\n",
       " 'entities': {'description': {'urls': []}},\n",
       " 'protected': False,\n",
       " 'followers_count': 65,\n",
       " 'friends_count': 272,\n",
       " 'listed_count': 3,\n",
       " 'created_at': 'Tue Dec 11 07:50:05 +0000 2012',\n",
       " 'favourites_count': 6967,\n",
       " 'utc_offset': None,\n",
       " 'time_zone': None,\n",
       " 'geo_enabled': True,\n",
       " 'verified': False,\n",
       " 'statuses_count': 5831,\n",
       " 'lang': None,\n",
       " 'contributors_enabled': False,\n",
       " 'is_translator': False,\n",
       " 'is_translation_enabled': False,\n",
       " 'profile_background_color': 'B2DFDA',\n",
       " 'profile_background_image_url': 'http://abs.twimg.com/images/themes/theme13/bg.gif',\n",
       " 'profile_background_image_url_https': 'https://abs.twimg.com/images/themes/theme13/bg.gif',\n",
       " 'profile_background_tile': False,\n",
       " 'profile_image_url': 'http://pbs.twimg.com/profile_images/1353026797298880513/gUP9xN8G_normal.jpg',\n",
       " 'profile_image_url_https': 'https://pbs.twimg.com/profile_images/1353026797298880513/gUP9xN8G_normal.jpg',\n",
       " 'profile_banner_url': 'https://pbs.twimg.com/profile_banners/1003562923/1507125273',\n",
       " 'profile_link_color': '93A644',\n",
       " 'profile_sidebar_border_color': 'EEEEEE',\n",
       " 'profile_sidebar_fill_color': 'FFFFFF',\n",
       " 'profile_text_color': '333333',\n",
       " 'profile_use_background_image': True,\n",
       " 'has_extended_profile': False,\n",
       " 'default_profile': False,\n",
       " 'default_profile_image': False,\n",
       " 'following': False,\n",
       " 'follow_request_sent': False,\n",
       " 'notifications': False,\n",
       " 'translator_type': 'none',\n",
       " 'withheld_in_countries': []}"
      ]
     },
<<<<<<< HEAD
     "execution_count": 25,
=======
     "execution_count": 24,
>>>>>>> d06bdeef7e2d227bb594f2fa2dff0477f2688e1f
     "metadata": {},
     "output_type": "execute_result"
    }
   ],
   "source": [
    "tweets_df[\"user\"][1]"
   ]
  },
  {
   "attachments": {},
   "cell_type": "markdown",
   "metadata": {},
   "source": [
    "User is a dictionary containing 43 fields and their values"
   ]
  },
  {
   "attachments": {},
   "cell_type": "markdown",
   "metadata": {},
   "source": [
    "### Location data (dictionary)<a class=\"anchor\" id=\"location-data\"></a> "
   ]
  },
  {
   "cell_type": "code",
<<<<<<< HEAD
   "execution_count": 26,
=======
   "execution_count": 25,
>>>>>>> d06bdeef7e2d227bb594f2fa2dff0477f2688e1f
   "metadata": {},
   "outputs": [
    {
     "data": {
      "text/plain": [
       "place\n",
       "{'id': '00180402799fed03', 'url': 'https://api.twitter.com/1.1/geo/id/00180402799fed03.json', 'place_type': 'city', 'name': 'Taipei City', 'full_name': 'Taipei City, Taiwan', 'country_code': 'TW', 'country': 'Taiwan', 'contained_within': [], 'bounding_box': {'type': 'Polygon', 'coordinates': [[[121.457132, 24.960508], [121.66582, 24.960508], [121.66582, 25.211004], [121.457132, 25.211004]]]}, 'attributes': {}}                                                    11\n",
       "{'id': 'e3e9c55876b99760', 'url': 'https://api.twitter.com/1.1/geo/id/e3e9c55876b99760.json', 'place_type': 'country', 'name': 'Bahrain', 'full_name': 'Bahrain', 'country_code': 'BH', 'country': 'Bahrain', 'contained_within': [], 'bounding_box': {'type': 'Polygon', 'coordinates': [[[50.3251128, 25.5704959], [50.8226344, 25.5704959], [50.8226344, 26.3341076], [50.3251128, 26.3341076]]]}, 'attributes': {}}                                                          11\n",
       "{'id': '013440e928c23cd9', 'url': 'https://api.twitter.com/1.1/geo/id/013440e928c23cd9.json', 'place_type': 'city', 'name': 'Singleton', 'full_name': 'Singleton, New South Wales', 'country_code': 'AU', 'country': 'Australia', 'contained_within': [], 'bounding_box': {'type': 'Polygon', 'coordinates': [[[151.132646496, -32.577169525], [151.192112992, -32.577169525], [151.192112992, -32.531693676], [151.132646496, -32.531693676]]]}, 'attributes': {}}               4\n",
       "{'id': '01120f703ae9184a', 'url': 'https://api.twitter.com/1.1/geo/id/01120f703ae9184a.json', 'place_type': 'admin', 'name': 'Beijing', 'full_name': 'Beijing, People's Republic of China', 'country_code': 'CN', 'country': 'People's Republic of China', 'contained_within': [], 'bounding_box': {'type': 'Polygon', 'coordinates': [[[115.421372, 39.43277], [117.501099, 39.43277], [117.501099, 41.05999], [115.421372, 41.05999]]]}, 'attributes': {}}                      4\n",
       "{'id': '35780b08c563d8ab', 'url': 'https://api.twitter.com/1.1/geo/id/35780b08c563d8ab.json', 'place_type': 'city', 'name': 'Thane', 'full_name': 'Thane, India', 'country_code': 'IN', 'country': 'India', 'contained_within': [], 'bounding_box': {'type': 'Polygon', 'coordinates': [[[72.80161, 19.16162], [73.03441, 19.16162], [73.03441, 19.593412999999998], [72.80161, 19.593412999999998]]]}, 'attributes': {}}                                                         3\n",
       "                                                                                                                                                                                                                                                                                                                                                                                                                                                                                 ..\n",
       "{'id': '0a6473ef41560000', 'url': 'https://api.twitter.com/1.1/geo/id/0a6473ef41560000.json', 'place_type': 'poi', 'name': '新店溪左岸自行車道', 'full_name': '新店溪左岸自行車道', 'country_code': 'TW', 'country': 'Taiwan', 'contained_within': [], 'bounding_box': {'type': 'Polygon', 'coordinates': [[[121.498215, 25.009047], [121.498215, 25.009047], [121.498215, 25.009047], [121.498215, 25.009047]]]}, 'attributes': {}}                                                                1\n",
       "{'id': 'cad757363c1a85df', 'url': 'https://api.twitter.com/1.1/geo/id/cad757363c1a85df.json', 'place_type': 'city', 'name': 'Glen Burnie', 'full_name': 'Glen Burnie, MD', 'country_code': 'US', 'country': 'United States', 'contained_within': [], 'bounding_box': {'type': 'Polygon', 'coordinates': [[[-76.644717, 39.131259], [-76.563196, 39.131259], [-76.563196, 39.207912], [-76.644717, 39.207912]]]}, 'attributes': {}}                                                1\n",
       "{'id': '94965b2c45386f87', 'url': 'https://api.twitter.com/1.1/geo/id/94965b2c45386f87.json', 'place_type': 'admin', 'name': 'New York', 'full_name': 'New York, USA', 'country_code': 'US', 'country': 'United States', 'contained_within': [], 'bounding_box': {'type': 'Polygon', 'coordinates': [[[-79.76259, 40.477383], [-71.777492, 40.477383], [-71.777492, 45.015851], [-79.76259, 45.015851]]]}, 'attributes': {}}                                                      1\n",
       "{'id': '07d9cbb83e488003', 'url': 'https://api.twitter.com/1.1/geo/id/07d9cbb83e488003.json', 'place_type': 'poi', 'name': 'القلعة', 'full_name': 'القلعة', 'country_code': 'BH', 'country': 'Bahrain', 'contained_within': [], 'bounding_box': {'type': 'Polygon', 'coordinates': [[[50.57556980215904, 26.221785628556866], [50.57556980215904, 26.221785628556866], [50.57556980215904, 26.221785628556866], [50.57556980215904, 26.221785628556866]]]}, 'attributes': {}}     1\n",
       "{'id': '08be9e4ebe3d037d', 'url': 'https://api.twitter.com/1.1/geo/id/08be9e4ebe3d037d.json', 'place_type': 'city', 'name': 'Poplar', 'full_name': 'Poplar, London', 'country_code': 'GB', 'country': 'United Kingdom', 'contained_within': [], 'bounding_box': {'type': 'Polygon', 'coordinates': [[[-0.080028, 51.48432], [0.009989, 51.48432], [0.009989, 51.545341], [-0.080028, 51.545341]]]}, 'attributes': {}}                                                             1\n",
       "Name: count, Length: 76, dtype: int64"
      ]
     },
<<<<<<< HEAD
     "execution_count": 26,
=======
     "execution_count": 25,
>>>>>>> d06bdeef7e2d227bb594f2fa2dff0477f2688e1f
     "metadata": {},
     "output_type": "execute_result"
    }
   ],
   "source": [
    "tweets_df[\"place\"].value_counts()"
   ]
  },
  {
   "attachments": {},
   "cell_type": "markdown",
   "metadata": {},
   "source": [
    "Locations are a dictionaries that contain the following keys:\n",
    "- id\n",
    "- url\n",
    "- place_type\n",
    "- name\n",
    "- full_name\n",
    "- country_code\n",
    "- country\n",
    "- contained_within\n",
    "- bounding_box\n",
    "- attributes"
   ]
  },
  {
   "attachments": {},
   "cell_type": "markdown",
   "metadata": {},
   "source": [
    "### Retweeted data (dictionary) <a class=\"anchor\" id=\"retweeted-data\"></a> "
   ]
  },
  {
   "cell_type": "code",
<<<<<<< HEAD
   "execution_count": 27,
=======
   "execution_count": 26,
>>>>>>> d06bdeef7e2d227bb594f2fa2dff0477f2688e1f
   "metadata": {},
   "outputs": [
    {
     "data": {
      "text/plain": [
       "{'created_at': 'Sun Aug 07 20:15:13 +0000 2022',\n",
       " 'id': 1556373418915815424,\n",
       " 'id_str': '1556373418915815424',\n",
       " 'full_text': 'Extra random image (I):\\n\\nLets focus in one very specific zone of the western coast -&gt; Longjing District, Taichung #City, #Taiwan \\n \\n#Copernicus #Sentinel2 🛰️ 2022-08-03 \\nFull Size -&gt; https://t.co/39IOoqJZR9 🧐 https://t.co/rdf21paD5P',\n",
       " 'truncated': False,\n",
       " 'display_text_range': [0, 214],\n",
       " 'entities': {'hashtags': [{'text': 'City', 'indices': [117, 122]},\n",
       "   {'text': 'Taiwan', 'indices': [124, 131]},\n",
       "   {'text': 'Copernicus', 'indices': [135, 146]},\n",
       "   {'text': 'Sentinel2', 'indices': [147, 157]}],\n",
       "  'symbols': [],\n",
       "  'user_mentions': [],\n",
       "  'urls': [{'url': 'https://t.co/39IOoqJZR9',\n",
       "    'expanded_url': 'https://flic.kr/p/2nCWhN1',\n",
       "    'display_url': 'flic.kr/p/2nCWhN1',\n",
       "    'indices': [189, 212]}],\n",
       "  'media': [{'id': 1556372372650868738,\n",
       "    'id_str': '1556372372650868738',\n",
       "    'indices': [215, 238],\n",
       "    'media_url': 'http://pbs.twimg.com/media/FZlYbUoWQAI5xmb.jpg',\n",
       "    'media_url_https': 'https://pbs.twimg.com/media/FZlYbUoWQAI5xmb.jpg',\n",
       "    'url': 'https://t.co/rdf21paD5P',\n",
       "    'display_url': 'pic.twitter.com/rdf21paD5P',\n",
       "    'expanded_url': 'https://twitter.com/i_ameztoy/status/1556373418915815424/photo/1',\n",
       "    'type': 'photo',\n",
       "    'sizes': {'thumb': {'w': 150, 'h': 150, 'resize': 'crop'},\n",
       "     'large': {'w': 2048, 'h': 1280, 'resize': 'fit'},\n",
       "     'small': {'w': 680, 'h': 425, 'resize': 'fit'},\n",
       "     'medium': {'w': 1200, 'h': 750, 'resize': 'fit'}}}]},\n",
       " 'extended_entities': {'media': [{'id': 1556372372650868738,\n",
       "    'id_str': '1556372372650868738',\n",
       "    'indices': [215, 238],\n",
       "    'media_url': 'http://pbs.twimg.com/media/FZlYbUoWQAI5xmb.jpg',\n",
       "    'media_url_https': 'https://pbs.twimg.com/media/FZlYbUoWQAI5xmb.jpg',\n",
       "    'url': 'https://t.co/rdf21paD5P',\n",
       "    'display_url': 'pic.twitter.com/rdf21paD5P',\n",
       "    'expanded_url': 'https://twitter.com/i_ameztoy/status/1556373418915815424/photo/1',\n",
       "    'type': 'photo',\n",
       "    'sizes': {'thumb': {'w': 150, 'h': 150, 'resize': 'crop'},\n",
       "     'large': {'w': 2048, 'h': 1280, 'resize': 'fit'},\n",
       "     'small': {'w': 680, 'h': 425, 'resize': 'fit'},\n",
       "     'medium': {'w': 1200, 'h': 750, 'resize': 'fit'}}}]},\n",
       " 'metadata': {'iso_language_code': 'en', 'result_type': 'recent'},\n",
       " 'source': '<a href=\"https://mobile.twitter.com\" rel=\"nofollow\">Twitter Web App</a>',\n",
       " 'in_reply_to_status_id': 1554866413155897346,\n",
       " 'in_reply_to_status_id_str': '1554866413155897346',\n",
       " 'in_reply_to_user_id': 3418339671,\n",
       " 'in_reply_to_user_id_str': '3418339671',\n",
       " 'in_reply_to_screen_name': 'i_ameztoy',\n",
       " 'user': {'id': 3418339671,\n",
       "  'id_str': '3418339671',\n",
       "  'name': 'Iban Ameztoy',\n",
       "  'screen_name': 'i_ameztoy',\n",
       "  'location': '',\n",
       "  'description': 'It´s not all about fancy words, but place always matters. Earth Observer 🛰🌍 Now @EU_scienceHub All Views My Own 🗺',\n",
       "  'url': None,\n",
       "  'entities': {'description': {'urls': []}},\n",
       "  'protected': False,\n",
       "  'followers_count': 20497,\n",
       "  'friends_count': 2621,\n",
       "  'listed_count': 232,\n",
       "  'created_at': 'Wed Aug 12 17:31:24 +0000 2015',\n",
       "  'favourites_count': 15760,\n",
       "  'utc_offset': None,\n",
       "  'time_zone': None,\n",
       "  'geo_enabled': True,\n",
       "  'verified': False,\n",
       "  'statuses_count': 8097,\n",
       "  'lang': None,\n",
       "  'contributors_enabled': False,\n",
       "  'is_translator': False,\n",
       "  'is_translation_enabled': False,\n",
       "  'profile_background_color': '000000',\n",
       "  'profile_background_image_url': 'http://abs.twimg.com/images/themes/theme1/bg.png',\n",
       "  'profile_background_image_url_https': 'https://abs.twimg.com/images/themes/theme1/bg.png',\n",
       "  'profile_background_tile': False,\n",
       "  'profile_image_url': 'http://pbs.twimg.com/profile_images/1516525072302981122/2-zDuyTR_normal.jpg',\n",
       "  'profile_image_url_https': 'https://pbs.twimg.com/profile_images/1516525072302981122/2-zDuyTR_normal.jpg',\n",
       "  'profile_banner_url': 'https://pbs.twimg.com/profile_banners/3418339671/1545080943',\n",
       "  'profile_link_color': '1B95E0',\n",
       "  'profile_sidebar_border_color': '000000',\n",
       "  'profile_sidebar_fill_color': '000000',\n",
       "  'profile_text_color': '000000',\n",
       "  'profile_use_background_image': False,\n",
       "  'has_extended_profile': False,\n",
       "  'default_profile': False,\n",
       "  'default_profile_image': False,\n",
       "  'following': False,\n",
       "  'follow_request_sent': False,\n",
       "  'notifications': False,\n",
       "  'translator_type': 'none',\n",
       "  'withheld_in_countries': []},\n",
       " 'geo': None,\n",
       " 'coordinates': None,\n",
       " 'place': None,\n",
       " 'contributors': None,\n",
       " 'is_quote_status': False,\n",
       " 'retweet_count': 2,\n",
       " 'favorite_count': 4,\n",
       " 'favorited': False,\n",
       " 'retweeted': False,\n",
       " 'possibly_sensitive': False,\n",
       " 'lang': 'en'}"
      ]
     },
<<<<<<< HEAD
     "execution_count": 27,
=======
     "execution_count": 26,
>>>>>>> d06bdeef7e2d227bb594f2fa2dff0477f2688e1f
     "metadata": {},
     "output_type": "execute_result"
    }
   ],
   "source": [
    "tweets_df[\"retweeted_status\"][0]"
   ]
  },
  {
   "attachments": {},
   "cell_type": "markdown",
   "metadata": {},
   "source": [
    "### Quote status (boolean)<a class=\"anchor\" id=\"quote-status\"></a> "
   ]
  },
  {
   "cell_type": "code",
<<<<<<< HEAD
   "execution_count": 28,
=======
   "execution_count": 89,
>>>>>>> d06bdeef7e2d227bb594f2fa2dff0477f2688e1f
   "metadata": {},
   "outputs": [
    {
     "data": {
      "text/plain": [
       "is_quote_status\n",
       "False    20607\n",
       "True      1393\n",
       "Name: count, dtype: int64"
      ]
     },
<<<<<<< HEAD
     "execution_count": 28,
=======
     "execution_count": 89,
>>>>>>> d06bdeef7e2d227bb594f2fa2dff0477f2688e1f
     "metadata": {},
     "output_type": "execute_result"
    }
   ],
   "source": [
    "tweets_df[\"is_quote_status\"].value_counts()"
   ]
  },
  {
   "cell_type": "code",
<<<<<<< HEAD
   "execution_count": 29,
=======
   "execution_count": 92,
>>>>>>> d06bdeef7e2d227bb594f2fa2dff0477f2688e1f
   "metadata": {},
   "outputs": [
    {
     "data": {
      "image/png": "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",
      "text/plain": [
       "<Figure size 640x480 with 1 Axes>"
      ]
     },
     "metadata": {},
     "output_type": "display_data"
    }
   ],
   "source": [
    "ax = plt.bar(tweets_df[\"is_quote_status\"].value_counts().index, tweets_df[\"is_quote_status\"].value_counts().values,width = 0.4)\n",
    "plt.xticks(ticks = [0.0, 1.0], labels=[\"False\",\"True\"])\n",
    "plt.title(\"Is quote status\")\n",
    "plt.show()"
   ]
  },
  {
   "attachments": {},
   "cell_type": "markdown",
   "metadata": {},
   "source": [
    "### Quoted status ids <a class=\"anchor\" id=\"quoted-tweets\"></a>"
   ]
  },
  {
   "cell_type": "code",
<<<<<<< HEAD
   "execution_count": 30,
=======
   "execution_count": 28,
>>>>>>> d06bdeef7e2d227bb594f2fa2dff0477f2688e1f
   "metadata": {},
   "outputs": [
    {
     "data": {
      "text/plain": [
       "quoted_status_id\n",
       "1.555899e+18    114\n",
       "1.555852e+18     25\n",
       "1.556066e+18     25\n",
       "1.555884e+18     23\n",
       "1.554185e+18     21\n",
       "               ... \n",
       "1.555026e+18      1\n",
       "1.555968e+18      1\n",
       "1.556076e+18      1\n",
       "1.555532e+18      1\n",
       "1.555727e+18      1\n",
       "Name: count, Length: 627, dtype: int64"
      ]
     },
<<<<<<< HEAD
     "execution_count": 30,
=======
     "execution_count": 28,
>>>>>>> d06bdeef7e2d227bb594f2fa2dff0477f2688e1f
     "metadata": {},
     "output_type": "execute_result"
    }
   ],
   "source": [
    "tweets_df[\"quoted_status_id\"].value_counts()"
   ]
  },
  {
   "attachments": {},
   "cell_type": "markdown",
   "metadata": {},
   "source": [
    "### Number of RTs (integer) <a class=\"anchor\" id=\"retweet-count\"></a> "
   ]
  },
  {
   "cell_type": "code",
<<<<<<< HEAD
   "execution_count": 31,
=======
   "execution_count": 29,
>>>>>>> d06bdeef7e2d227bb594f2fa2dff0477f2688e1f
   "metadata": {},
   "outputs": [
    {
     "data": {
      "text/plain": [
       "retweet_count\n",
       "0       3496\n",
       "1       1153\n",
       "2        722\n",
       "3        504\n",
       "4        445\n",
       "        ... \n",
       "1880       1\n",
       "350        1\n",
       "209        1\n",
       "715        1\n",
       "97         1\n",
       "Name: count, Length: 483, dtype: int64"
      ]
     },
<<<<<<< HEAD
     "execution_count": 31,
=======
     "execution_count": 29,
>>>>>>> d06bdeef7e2d227bb594f2fa2dff0477f2688e1f
     "metadata": {},
     "output_type": "execute_result"
    }
   ],
   "source": [
    "tweets_df[\"retweet_count\"].value_counts()"
   ]
  },
  {
   "attachments": {},
   "cell_type": "markdown",
   "metadata": {},
   "source": [
    "Majority of the tweets have not been retweeted."
   ]
  },
  {
   "attachments": {},
   "cell_type": "markdown",
   "metadata": {},
   "source": [
    "### Retweeted (boolean) <a class=\"anchor\" id=\"retweeted\"></a>"
   ]
  },
  {
   "cell_type": "code",
<<<<<<< HEAD
   "execution_count": 32,
=======
   "execution_count": 30,
>>>>>>> d06bdeef7e2d227bb594f2fa2dff0477f2688e1f
   "metadata": {},
   "outputs": [
    {
     "data": {
      "text/plain": [
       "retweeted\n",
       "False    22000\n",
       "Name: count, dtype: int64"
      ]
     },
<<<<<<< HEAD
     "execution_count": 32,
=======
     "execution_count": 30,
>>>>>>> d06bdeef7e2d227bb594f2fa2dff0477f2688e1f
     "metadata": {},
     "output_type": "execute_result"
    }
   ],
   "source": [
    "tweets_df[\"retweeted\"].value_counts()"
   ]
  },
  {
   "attachments": {},
   "cell_type": "markdown",
   "metadata": {},
   "source": [
    "None of the Tweets have been retweeted"
   ]
  },
  {
   "attachments": {},
   "cell_type": "markdown",
   "metadata": {},
   "source": [
    "### Favorite count (integer)<a class=\"anchor\" id=\"favorite-count\"></a> "
   ]
  },
  {
   "cell_type": "code",
<<<<<<< HEAD
   "execution_count": 33,
=======
   "execution_count": 104,
>>>>>>> d06bdeef7e2d227bb594f2fa2dff0477f2688e1f
   "metadata": {},
   "outputs": [
    {
     "data": {
      "text/plain": [
       "favorite_count\n",
       "0       19732\n",
       "1         908\n",
       "2         394\n",
       "3         212\n",
       "4         123\n",
       "        ...  \n",
       "1141        1\n",
       "77          1\n",
       "55          1\n",
       "451         1\n",
       "103         1\n",
       "Name: count, Length: 156, dtype: int64"
      ]
     },
<<<<<<< HEAD
     "execution_count": 33,
=======
     "execution_count": 104,
>>>>>>> d06bdeef7e2d227bb594f2fa2dff0477f2688e1f
     "metadata": {},
     "output_type": "execute_result"
    }
   ],
   "source": [
    "tweets_df[\"favorite_count\"].value_counts()"
   ]
  },
  {
   "attachments": {},
   "cell_type": "markdown",
   "metadata": {},
   "source": [
    "Majority of the tweets have 0 likes/favorites. "
   ]
  },
  {
   "attachments": {},
   "cell_type": "markdown",
   "metadata": {},
   "source": [
    "### Favorite status (boolean) <a class=\"anchor\" id=\"favorite\"></a> "
   ]
  },
  {
   "cell_type": "code",
<<<<<<< HEAD
   "execution_count": 34,
=======
   "execution_count": 32,
>>>>>>> d06bdeef7e2d227bb594f2fa2dff0477f2688e1f
   "metadata": {},
   "outputs": [
    {
     "data": {
      "text/plain": [
       "favorited\n",
       "False    22000\n",
       "Name: count, dtype: int64"
      ]
     },
<<<<<<< HEAD
     "execution_count": 34,
=======
     "execution_count": 32,
>>>>>>> d06bdeef7e2d227bb594f2fa2dff0477f2688e1f
     "metadata": {},
     "output_type": "execute_result"
    }
   ],
   "source": [
    "tweets_df[\"favorited\"].value_counts()"
   ]
  },
  {
   "attachments": {},
   "cell_type": "markdown",
   "metadata": {},
   "source": [
    "### Language <a class=\"anchor\" id=\"lang\"></a> "
   ]
  },
  {
   "cell_type": "code",
<<<<<<< HEAD
   "execution_count": 35,
=======
   "execution_count": 33,
>>>>>>> d06bdeef7e2d227bb594f2fa2dff0477f2688e1f
   "metadata": {},
   "outputs": [
    {
     "data": {
      "text/plain": [
       "lang\n",
       "en    22000\n",
       "Name: count, dtype: int64"
      ]
     },
<<<<<<< HEAD
     "execution_count": 35,
=======
     "execution_count": 33,
>>>>>>> d06bdeef7e2d227bb594f2fa2dff0477f2688e1f
     "metadata": {},
     "output_type": "execute_result"
    }
   ],
   "source": [
    "tweets_df[\"lang\"].value_counts()"
   ]
  },
  {
   "attachments": {},
   "cell_type": "markdown",
   "metadata": {},
   "source": [
    "All tweets are in en which is the ISO language code for English"
   ]
  },
  {
   "attachments": {},
   "cell_type": "markdown",
   "metadata": {},
   "source": [
    "### Sensitive tweets <a class=\"anchor\" id=\"sensitive-tweets\"></a> "
   ]
  },
  {
   "cell_type": "code",
<<<<<<< HEAD
   "execution_count": 36,
=======
   "execution_count": 34,
>>>>>>> d06bdeef7e2d227bb594f2fa2dff0477f2688e1f
   "metadata": {},
   "outputs": [
    {
     "data": {
      "text/plain": [
       "possibly_sensitive\n",
       "0.0    5961\n",
       "1.0     230\n",
       "Name: count, dtype: int64"
      ]
     },
<<<<<<< HEAD
     "execution_count": 36,
=======
     "execution_count": 34,
>>>>>>> d06bdeef7e2d227bb594f2fa2dff0477f2688e1f
     "metadata": {},
     "output_type": "execute_result"
    }
   ],
   "source": [
    "tweets_df[\"possibly_sensitive\"].value_counts()"
   ]
  },
  {
   "cell_type": "code",
<<<<<<< HEAD
   "execution_count": 37,
=======
   "execution_count": 98,
>>>>>>> d06bdeef7e2d227bb594f2fa2dff0477f2688e1f
   "metadata": {},
   "outputs": [
    {
     "data": {
      "image/png": "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",
      "text/plain": [
       "<Figure size 640x480 with 1 Axes>"
      ]
     },
     "metadata": {},
     "output_type": "display_data"
    }
   ],
   "source": [
    "ax = plt.bar(tweets_df[\"possibly_sensitive\"].value_counts().index, tweets_df[\"possibly_sensitive\"].value_counts().values,width = 0.4)\n",
    "plt.xticks(ticks = [0.0, 1.0], labels=[\"False\",\"True\"])\n",
    "plt.title(\"Number of Tweets that are considered sensitive\")\n",
    "plt.show()"
   ]
  },
  {
   "attachments": {},
   "cell_type": "markdown",
   "metadata": {},
   "source": [
    "Very few Tweets are considered sensitive"
   ]
  },
  {
   "attachments": {},
   "cell_type": "markdown",
   "metadata": {},
   "source": [
    "Below are the details of sensitive Tweets"
   ]
  },
  {
   "cell_type": "code",
<<<<<<< HEAD
   "execution_count": 38,
=======
   "execution_count": 35,
>>>>>>> d06bdeef7e2d227bb594f2fa2dff0477f2688e1f
   "metadata": {},
   "outputs": [
    {
     "data": {
      "text/html": [
       "<div>\n",
       "<style scoped>\n",
       "    .dataframe tbody tr th:only-of-type {\n",
       "        vertical-align: middle;\n",
       "    }\n",
       "\n",
       "    .dataframe tbody tr th {\n",
       "        vertical-align: top;\n",
       "    }\n",
       "\n",
       "    .dataframe thead th {\n",
       "        text-align: right;\n",
       "    }\n",
       "</style>\n",
       "<table border=\"1\" class=\"dataframe\">\n",
       "  <thead>\n",
       "    <tr style=\"text-align: right;\">\n",
       "      <th></th>\n",
       "      <th>_id</th>\n",
       "      <th>created_at</th>\n",
       "      <th>full_text</th>\n",
       "      <th>truncated</th>\n",
       "      <th>display_text_range</th>\n",
       "      <th>entities</th>\n",
       "      <th>metadata</th>\n",
       "      <th>source</th>\n",
       "      <th>in_reply_to_status_id</th>\n",
       "      <th>in_reply_to_status_id_str</th>\n",
       "      <th>...</th>\n",
       "      <th>possibly_sensitive</th>\n",
       "      <th>extended_entities</th>\n",
       "      <th>quoted_status_id</th>\n",
       "      <th>quoted_status_id_str</th>\n",
       "      <th>quoted_status</th>\n",
       "      <th>withheld_in_countries</th>\n",
       "      <th>day</th>\n",
       "      <th>hour_of_day</th>\n",
       "      <th>minute</th>\n",
       "      <th>second</th>\n",
       "    </tr>\n",
       "  </thead>\n",
       "  <tbody>\n",
       "    <tr>\n",
       "      <th>5</th>\n",
       "      <td>1556407597091041280</td>\n",
       "      <td>2022-08-07 22:31:02</td>\n",
       "      <td>RT @benedictrogers: We must not let this happe...</td>\n",
       "      <td>False</td>\n",
       "      <td>[0, 116]</td>\n",
       "      <td>{'hashtags': [{'text': 'Taiwan', 'indices': [8...</td>\n",
       "      <td>{'iso_language_code': 'en', 'result_type': 're...</td>\n",
       "      <td>&lt;a href=\"http://twitter.com/download/android\" ...</td>\n",
       "      <td>NaN</td>\n",
       "      <td>NaN</td>\n",
       "      <td>...</td>\n",
       "      <td>0.0</td>\n",
       "      <td>NaN</td>\n",
       "      <td>NaN</td>\n",
       "      <td>NaN</td>\n",
       "      <td>NaN</td>\n",
       "      <td>NaN</td>\n",
       "      <td>7</td>\n",
       "      <td>22</td>\n",
       "      <td>31</td>\n",
       "      <td>2</td>\n",
       "    </tr>\n",
       "    <tr>\n",
       "      <th>11</th>\n",
       "      <td>1556407483953987586</td>\n",
       "      <td>2022-08-07 22:30:35</td>\n",
       "      <td>Wilson Chinonso Blog: Nigerian tribes, the lis...</td>\n",
       "      <td>False</td>\n",
       "      <td>[0, 114]</td>\n",
       "      <td>{'hashtags': [{'text': 'China', 'indices': [84...</td>\n",
       "      <td>{'iso_language_code': 'en', 'result_type': 're...</td>\n",
       "      <td>&lt;a href=\"https://mobile.twitter.com\" rel=\"nofo...</td>\n",
       "      <td>NaN</td>\n",
       "      <td>NaN</td>\n",
       "      <td>...</td>\n",
       "      <td>0.0</td>\n",
       "      <td>NaN</td>\n",
       "      <td>NaN</td>\n",
       "      <td>NaN</td>\n",
       "      <td>NaN</td>\n",
       "      <td>NaN</td>\n",
       "      <td>7</td>\n",
       "      <td>22</td>\n",
       "      <td>30</td>\n",
       "      <td>35</td>\n",
       "    </tr>\n",
       "    <tr>\n",
       "      <th>12</th>\n",
       "      <td>1556407482570145792</td>\n",
       "      <td>2022-08-07 22:30:35</td>\n",
       "      <td>RT @IndoPac_Info: A good infographic of #China...</td>\n",
       "      <td>False</td>\n",
       "      <td>[0, 135]</td>\n",
       "      <td>{'hashtags': [{'text': 'China', 'indices': [40...</td>\n",
       "      <td>{'iso_language_code': 'en', 'result_type': 're...</td>\n",
       "      <td>&lt;a href=\"http://twitter.com/download/android\" ...</td>\n",
       "      <td>NaN</td>\n",
       "      <td>NaN</td>\n",
       "      <td>...</td>\n",
       "      <td>0.0</td>\n",
       "      <td>{'media': [{'id': 1555920926847295488, 'id_str...</td>\n",
       "      <td>NaN</td>\n",
       "      <td>NaN</td>\n",
       "      <td>NaN</td>\n",
       "      <td>NaN</td>\n",
       "      <td>7</td>\n",
       "      <td>22</td>\n",
       "      <td>30</td>\n",
       "      <td>35</td>\n",
       "    </tr>\n",
       "    <tr>\n",
       "      <th>18</th>\n",
       "      <td>1556407364160552965</td>\n",
       "      <td>2022-08-07 22:30:06</td>\n",
       "      <td>RT @odisseoisback: #Corfu #Greece🇬🇷\\n#Summer #...</td>\n",
       "      <td>False</td>\n",
       "      <td>[0, 140]</td>\n",
       "      <td>{'hashtags': [{'text': 'Corfu', 'indices': [19...</td>\n",
       "      <td>{'iso_language_code': 'en', 'result_type': 're...</td>\n",
       "      <td>&lt;a href=\"https://covid19travel.com\" rel=\"nofol...</td>\n",
       "      <td>NaN</td>\n",
       "      <td>NaN</td>\n",
       "      <td>...</td>\n",
       "      <td>0.0</td>\n",
       "      <td>NaN</td>\n",
       "      <td>NaN</td>\n",
       "      <td>NaN</td>\n",
       "      <td>NaN</td>\n",
       "      <td>NaN</td>\n",
       "      <td>7</td>\n",
       "      <td>22</td>\n",
       "      <td>30</td>\n",
       "      <td>6</td>\n",
       "    </tr>\n",
       "    <tr>\n",
       "      <th>19</th>\n",
       "      <td>1556407342287265800</td>\n",
       "      <td>2022-08-07 22:30:01</td>\n",
       "      <td>27.89US $ 17% OFF|Usb Condenser Microphone For...</td>\n",
       "      <td>False</td>\n",
       "      <td>[0, 279]</td>\n",
       "      <td>{'hashtags': [{'text': 'aliexpress', 'indices'...</td>\n",
       "      <td>{'iso_language_code': 'en', 'result_type': 're...</td>\n",
       "      <td>&lt;a href=\"https://buffer.com\" rel=\"nofollow\"&gt;Bu...</td>\n",
       "      <td>NaN</td>\n",
       "      <td>NaN</td>\n",
       "      <td>...</td>\n",
       "      <td>0.0</td>\n",
       "      <td>{'media': [{'id': 1556407339569364993, 'id_str...</td>\n",
       "      <td>NaN</td>\n",
       "      <td>NaN</td>\n",
       "      <td>NaN</td>\n",
       "      <td>NaN</td>\n",
       "      <td>7</td>\n",
       "      <td>22</td>\n",
       "      <td>30</td>\n",
       "      <td>1</td>\n",
       "    </tr>\n",
       "    <tr>\n",
       "      <th>...</th>\n",
       "      <td>...</td>\n",
       "      <td>...</td>\n",
       "      <td>...</td>\n",
       "      <td>...</td>\n",
       "      <td>...</td>\n",
       "      <td>...</td>\n",
       "      <td>...</td>\n",
       "      <td>...</td>\n",
       "      <td>...</td>\n",
       "      <td>...</td>\n",
       "      <td>...</td>\n",
       "      <td>...</td>\n",
       "      <td>...</td>\n",
       "      <td>...</td>\n",
       "      <td>...</td>\n",
       "      <td>...</td>\n",
       "      <td>...</td>\n",
       "      <td>...</td>\n",
       "      <td>...</td>\n",
       "      <td>...</td>\n",
       "      <td>...</td>\n",
       "    </tr>\n",
       "    <tr>\n",
       "      <th>21989</th>\n",
       "      <td>1555977957725900803</td>\n",
       "      <td>2022-08-06 18:03:48</td>\n",
       "      <td>Minister Wu is crystal clear in his @BBCNews i...</td>\n",
       "      <td>False</td>\n",
       "      <td>[0, 246]</td>\n",
       "      <td>{'hashtags': [{'text': 'Taiwan', 'indices': [1...</td>\n",
       "      <td>{'iso_language_code': 'en', 'result_type': 're...</td>\n",
       "      <td>&lt;a href=\"http://twitter.com/download/iphone\" r...</td>\n",
       "      <td>NaN</td>\n",
       "      <td>NaN</td>\n",
       "      <td>...</td>\n",
       "      <td>0.0</td>\n",
       "      <td>NaN</td>\n",
       "      <td>1.555727e+18</td>\n",
       "      <td>1.555727e+18</td>\n",
       "      <td>{'created_at': 'Sat Aug 06 01:26:36 +0000 2022...</td>\n",
       "      <td>NaN</td>\n",
       "      <td>6</td>\n",
       "      <td>18</td>\n",
       "      <td>3</td>\n",
       "      <td>48</td>\n",
       "    </tr>\n",
       "    <tr>\n",
       "      <th>21990</th>\n",
       "      <td>1555977954630549510</td>\n",
       "      <td>2022-08-06 18:03:47</td>\n",
       "      <td>RT @SpokespersonCHN: #PLA Live-fire military d...</td>\n",
       "      <td>False</td>\n",
       "      <td>[0, 131]</td>\n",
       "      <td>{'hashtags': [{'text': 'PLA', 'indices': [21, ...</td>\n",
       "      <td>{'iso_language_code': 'en', 'result_type': 're...</td>\n",
       "      <td>&lt;a href=\"http://twitter.com/download/iphone\" r...</td>\n",
       "      <td>NaN</td>\n",
       "      <td>NaN</td>\n",
       "      <td>...</td>\n",
       "      <td>1.0</td>\n",
       "      <td>{'media': [{'id': 1555461713058705408, 'id_str...</td>\n",
       "      <td>NaN</td>\n",
       "      <td>NaN</td>\n",
       "      <td>NaN</td>\n",
       "      <td>NaN</td>\n",
       "      <td>6</td>\n",
       "      <td>18</td>\n",
       "      <td>3</td>\n",
       "      <td>47</td>\n",
       "    </tr>\n",
       "    <tr>\n",
       "      <th>21992</th>\n",
       "      <td>1555977894618451968</td>\n",
       "      <td>2022-08-06 18:03:33</td>\n",
       "      <td>RT @jenniferatntd: Head of #Taiwan's #missile ...</td>\n",
       "      <td>False</td>\n",
       "      <td>[0, 140]</td>\n",
       "      <td>{'hashtags': [{'text': 'Taiwan', 'indices': [2...</td>\n",
       "      <td>{'iso_language_code': 'en', 'result_type': 're...</td>\n",
       "      <td>&lt;a href=\"http://twitter.com/download/iphone\" r...</td>\n",
       "      <td>NaN</td>\n",
       "      <td>NaN</td>\n",
       "      <td>...</td>\n",
       "      <td>0.0</td>\n",
       "      <td>NaN</td>\n",
       "      <td>NaN</td>\n",
       "      <td>NaN</td>\n",
       "      <td>NaN</td>\n",
       "      <td>NaN</td>\n",
       "      <td>6</td>\n",
       "      <td>18</td>\n",
       "      <td>3</td>\n",
       "      <td>33</td>\n",
       "    </tr>\n",
       "    <tr>\n",
       "      <th>21995</th>\n",
       "      <td>1555977877383938048</td>\n",
       "      <td>2022-08-06 18:03:29</td>\n",
       "      <td>RT @IndoPac_Info: A good infographic of #China...</td>\n",
       "      <td>False</td>\n",
       "      <td>[0, 135]</td>\n",
       "      <td>{'hashtags': [{'text': 'China', 'indices': [40...</td>\n",
       "      <td>{'iso_language_code': 'en', 'result_type': 're...</td>\n",
       "      <td>&lt;a href=\"http://twitter.com/download/android\" ...</td>\n",
       "      <td>NaN</td>\n",
       "      <td>NaN</td>\n",
       "      <td>...</td>\n",
       "      <td>0.0</td>\n",
       "      <td>{'media': [{'id': 1555920926847295488, 'id_str...</td>\n",
       "      <td>NaN</td>\n",
       "      <td>NaN</td>\n",
       "      <td>NaN</td>\n",
       "      <td>NaN</td>\n",
       "      <td>6</td>\n",
       "      <td>18</td>\n",
       "      <td>3</td>\n",
       "      <td>29</td>\n",
       "    </tr>\n",
       "    <tr>\n",
       "      <th>21996</th>\n",
       "      <td>1555977869746118661</td>\n",
       "      <td>2022-08-06 18:03:27</td>\n",
       "      <td>RT @IndoPac_Info: A good infographic of #China...</td>\n",
       "      <td>False</td>\n",
       "      <td>[0, 135]</td>\n",
       "      <td>{'hashtags': [{'text': 'China', 'indices': [40...</td>\n",
       "      <td>{'iso_language_code': 'en', 'result_type': 're...</td>\n",
       "      <td>&lt;a href=\"http://twitter.com/download/android\" ...</td>\n",
       "      <td>NaN</td>\n",
       "      <td>NaN</td>\n",
       "      <td>...</td>\n",
       "      <td>0.0</td>\n",
       "      <td>{'media': [{'id': 1555920926847295488, 'id_str...</td>\n",
       "      <td>NaN</td>\n",
       "      <td>NaN</td>\n",
       "      <td>NaN</td>\n",
       "      <td>NaN</td>\n",
       "      <td>6</td>\n",
       "      <td>18</td>\n",
       "      <td>3</td>\n",
       "      <td>27</td>\n",
       "    </tr>\n",
       "  </tbody>\n",
       "</table>\n",
       "<p>6191 rows × 35 columns</p>\n",
       "</div>"
      ],
      "text/plain": [
       "                       _id          created_at  \\\n",
       "5      1556407597091041280 2022-08-07 22:31:02   \n",
       "11     1556407483953987586 2022-08-07 22:30:35   \n",
       "12     1556407482570145792 2022-08-07 22:30:35   \n",
       "18     1556407364160552965 2022-08-07 22:30:06   \n",
       "19     1556407342287265800 2022-08-07 22:30:01   \n",
       "...                    ...                 ...   \n",
       "21989  1555977957725900803 2022-08-06 18:03:48   \n",
       "21990  1555977954630549510 2022-08-06 18:03:47   \n",
       "21992  1555977894618451968 2022-08-06 18:03:33   \n",
       "21995  1555977877383938048 2022-08-06 18:03:29   \n",
       "21996  1555977869746118661 2022-08-06 18:03:27   \n",
       "\n",
       "                                               full_text  truncated  \\\n",
       "5      RT @benedictrogers: We must not let this happe...      False   \n",
       "11     Wilson Chinonso Blog: Nigerian tribes, the lis...      False   \n",
       "12     RT @IndoPac_Info: A good infographic of #China...      False   \n",
       "18     RT @odisseoisback: #Corfu #Greece🇬🇷\\n#Summer #...      False   \n",
       "19     27.89US $ 17% OFF|Usb Condenser Microphone For...      False   \n",
       "...                                                  ...        ...   \n",
       "21989  Minister Wu is crystal clear in his @BBCNews i...      False   \n",
       "21990  RT @SpokespersonCHN: #PLA Live-fire military d...      False   \n",
       "21992  RT @jenniferatntd: Head of #Taiwan's #missile ...      False   \n",
       "21995  RT @IndoPac_Info: A good infographic of #China...      False   \n",
       "21996  RT @IndoPac_Info: A good infographic of #China...      False   \n",
       "\n",
       "      display_text_range                                           entities  \\\n",
       "5               [0, 116]  {'hashtags': [{'text': 'Taiwan', 'indices': [8...   \n",
       "11              [0, 114]  {'hashtags': [{'text': 'China', 'indices': [84...   \n",
       "12              [0, 135]  {'hashtags': [{'text': 'China', 'indices': [40...   \n",
       "18              [0, 140]  {'hashtags': [{'text': 'Corfu', 'indices': [19...   \n",
       "19              [0, 279]  {'hashtags': [{'text': 'aliexpress', 'indices'...   \n",
       "...                  ...                                                ...   \n",
       "21989           [0, 246]  {'hashtags': [{'text': 'Taiwan', 'indices': [1...   \n",
       "21990           [0, 131]  {'hashtags': [{'text': 'PLA', 'indices': [21, ...   \n",
       "21992           [0, 140]  {'hashtags': [{'text': 'Taiwan', 'indices': [2...   \n",
       "21995           [0, 135]  {'hashtags': [{'text': 'China', 'indices': [40...   \n",
       "21996           [0, 135]  {'hashtags': [{'text': 'China', 'indices': [40...   \n",
       "\n",
       "                                                metadata  \\\n",
       "5      {'iso_language_code': 'en', 'result_type': 're...   \n",
       "11     {'iso_language_code': 'en', 'result_type': 're...   \n",
       "12     {'iso_language_code': 'en', 'result_type': 're...   \n",
       "18     {'iso_language_code': 'en', 'result_type': 're...   \n",
       "19     {'iso_language_code': 'en', 'result_type': 're...   \n",
       "...                                                  ...   \n",
       "21989  {'iso_language_code': 'en', 'result_type': 're...   \n",
       "21990  {'iso_language_code': 'en', 'result_type': 're...   \n",
       "21992  {'iso_language_code': 'en', 'result_type': 're...   \n",
       "21995  {'iso_language_code': 'en', 'result_type': 're...   \n",
       "21996  {'iso_language_code': 'en', 'result_type': 're...   \n",
       "\n",
       "                                                  source  \\\n",
       "5      <a href=\"http://twitter.com/download/android\" ...   \n",
       "11     <a href=\"https://mobile.twitter.com\" rel=\"nofo...   \n",
       "12     <a href=\"http://twitter.com/download/android\" ...   \n",
       "18     <a href=\"https://covid19travel.com\" rel=\"nofol...   \n",
       "19     <a href=\"https://buffer.com\" rel=\"nofollow\">Bu...   \n",
       "...                                                  ...   \n",
       "21989  <a href=\"http://twitter.com/download/iphone\" r...   \n",
       "21990  <a href=\"http://twitter.com/download/iphone\" r...   \n",
       "21992  <a href=\"http://twitter.com/download/iphone\" r...   \n",
       "21995  <a href=\"http://twitter.com/download/android\" ...   \n",
       "21996  <a href=\"http://twitter.com/download/android\" ...   \n",
       "\n",
       "       in_reply_to_status_id  in_reply_to_status_id_str  ...  \\\n",
       "5                        NaN                        NaN  ...   \n",
       "11                       NaN                        NaN  ...   \n",
       "12                       NaN                        NaN  ...   \n",
       "18                       NaN                        NaN  ...   \n",
       "19                       NaN                        NaN  ...   \n",
       "...                      ...                        ...  ...   \n",
       "21989                    NaN                        NaN  ...   \n",
       "21990                    NaN                        NaN  ...   \n",
       "21992                    NaN                        NaN  ...   \n",
       "21995                    NaN                        NaN  ...   \n",
       "21996                    NaN                        NaN  ...   \n",
       "\n",
       "       possibly_sensitive                                  extended_entities  \\\n",
       "5                     0.0                                                NaN   \n",
       "11                    0.0                                                NaN   \n",
       "12                    0.0  {'media': [{'id': 1555920926847295488, 'id_str...   \n",
       "18                    0.0                                                NaN   \n",
       "19                    0.0  {'media': [{'id': 1556407339569364993, 'id_str...   \n",
       "...                   ...                                                ...   \n",
       "21989                 0.0                                                NaN   \n",
       "21990                 1.0  {'media': [{'id': 1555461713058705408, 'id_str...   \n",
       "21992                 0.0                                                NaN   \n",
       "21995                 0.0  {'media': [{'id': 1555920926847295488, 'id_str...   \n",
       "21996                 0.0  {'media': [{'id': 1555920926847295488, 'id_str...   \n",
       "\n",
       "      quoted_status_id quoted_status_id_str  \\\n",
       "5                  NaN                  NaN   \n",
       "11                 NaN                  NaN   \n",
       "12                 NaN                  NaN   \n",
       "18                 NaN                  NaN   \n",
       "19                 NaN                  NaN   \n",
       "...                ...                  ...   \n",
       "21989     1.555727e+18         1.555727e+18   \n",
       "21990              NaN                  NaN   \n",
       "21992              NaN                  NaN   \n",
       "21995              NaN                  NaN   \n",
       "21996              NaN                  NaN   \n",
       "\n",
       "                                           quoted_status  \\\n",
       "5                                                    NaN   \n",
       "11                                                   NaN   \n",
       "12                                                   NaN   \n",
       "18                                                   NaN   \n",
       "19                                                   NaN   \n",
       "...                                                  ...   \n",
       "21989  {'created_at': 'Sat Aug 06 01:26:36 +0000 2022...   \n",
       "21990                                                NaN   \n",
       "21992                                                NaN   \n",
       "21995                                                NaN   \n",
       "21996                                                NaN   \n",
       "\n",
       "       withheld_in_countries day  hour_of_day minute  second  \n",
       "5                        NaN   7           22     31       2  \n",
       "11                       NaN   7           22     30      35  \n",
       "12                       NaN   7           22     30      35  \n",
       "18                       NaN   7           22     30       6  \n",
       "19                       NaN   7           22     30       1  \n",
       "...                      ...  ..          ...    ...     ...  \n",
       "21989                    NaN   6           18      3      48  \n",
       "21990                    NaN   6           18      3      47  \n",
       "21992                    NaN   6           18      3      33  \n",
       "21995                    NaN   6           18      3      29  \n",
       "21996                    NaN   6           18      3      27  \n",
       "\n",
       "[6191 rows x 35 columns]"
      ]
     },
     "metadata": {},
     "output_type": "display_data"
    },
    {
     "data": {
      "text/plain": [
       "None"
      ]
     },
     "metadata": {},
     "output_type": "display_data"
    }
   ],
   "source": [
    "sensitive_tweets = display(tweets_df[tweets_df['possibly_sensitive'].notnull()])\n",
    "display(sensitive_tweets)"
   ]
  },
  {
   "attachments": {},
   "cell_type": "markdown",
   "metadata": {},
   "source": [
    "### Extended entities (dictionary) <a class=\"anchor\" id=\"extended-entities\"></a> "
   ]
  },
  {
   "cell_type": "code",
<<<<<<< HEAD
   "execution_count": 39,
=======
   "execution_count": 36,
>>>>>>> d06bdeef7e2d227bb594f2fa2dff0477f2688e1f
   "metadata": {},
   "outputs": [
    {
     "data": {
      "text/plain": [
       "{'media': [{'id': 1554466171637927936,\n",
       "   'id_str': '1554466171637927936',\n",
       "   'indices': [58, 81],\n",
       "   'media_url': 'http://pbs.twimg.com/media/FZKSv0fXEAA-OmF.jpg',\n",
       "   'media_url_https': 'https://pbs.twimg.com/media/FZKSv0fXEAA-OmF.jpg',\n",
       "   'url': 'https://t.co/oomVltBmKF',\n",
       "   'display_url': 'pic.twitter.com/oomVltBmKF',\n",
       "   'expanded_url': 'https://twitter.com/anku5hdilraaj_/status/1554466174666436608/photo/1',\n",
       "   'type': 'photo',\n",
       "   'sizes': {'thumb': {'w': 150, 'h': 150, 'resize': 'crop'},\n",
       "    'large': {'w': 739, 'h': 415, 'resize': 'fit'},\n",
       "    'small': {'w': 680, 'h': 382, 'resize': 'fit'},\n",
       "    'medium': {'w': 739, 'h': 415, 'resize': 'fit'}},\n",
       "   'source_status_id': 1554466174666436608,\n",
       "   'source_status_id_str': '1554466174666436608',\n",
       "   'source_user_id': 1309098996821045248,\n",
       "   'source_user_id_str': '1309098996821045248'}]}"
      ]
     },
<<<<<<< HEAD
     "execution_count": 39,
=======
     "execution_count": 36,
>>>>>>> d06bdeef7e2d227bb594f2fa2dff0477f2688e1f
     "metadata": {},
     "output_type": "execute_result"
    }
   ],
   "source": [
    "tweets_df[\"extended_entities\"][100]"
   ]
  },
  {
   "attachments": {},
   "cell_type": "markdown",
   "metadata": {},
   "source": [
    "Extended entities store media data which includes:\n",
    "- url\n",
    "- media type\n",
    "- media size\n",
    "- source status id\n",
    "- source user id"
   ]
  },
  {
   "attachments": {},
   "cell_type": "markdown",
   "metadata": {},
   "source": [
    "### Withheld in countries (list) <a class=\"anchor\" id=\"countries-withheld\"></a> "
   ]
  },
  {
   "cell_type": "code",
<<<<<<< HEAD
   "execution_count": 40,
=======
   "execution_count": 37,
>>>>>>> d06bdeef7e2d227bb594f2fa2dff0477f2688e1f
   "metadata": {},
   "outputs": [
    {
     "data": {
      "text/plain": [
       "withheld_in_countries\n",
       "[IN]                                                                                                                14\n",
       "[AT, BE, BG, CY, CZ, DE, DK, EE, ES, FI, FR, GB, GR, HR, HU, IE, IT, LT, LU, LV, MT, NL, PL, PT, RO, SE, SI, SK]     7\n",
       "[RU]                                                                                                                 1\n",
       "Name: count, dtype: int64"
      ]
     },
<<<<<<< HEAD
     "execution_count": 40,
=======
     "execution_count": 37,
>>>>>>> d06bdeef7e2d227bb594f2fa2dff0477f2688e1f
     "metadata": {},
     "output_type": "execute_result"
    }
   ],
   "source": [
    "tweets_df['withheld_in_countries'].value_counts()"
   ]
  },
  {
   "attachments": {},
   "cell_type": "markdown",
   "metadata": {},
   "source": [
    "Majority of the tweets were withheld in [IN]. Would require some explanation as to which country each code stands for. Only one tweet was withheld in [RU].\n",
    "\n",
    "Below are the specific tweets that have been withheld"
   ]
  },
  {
   "cell_type": "code",
<<<<<<< HEAD
   "execution_count": 41,
=======
   "execution_count": 38,
>>>>>>> d06bdeef7e2d227bb594f2fa2dff0477f2688e1f
   "metadata": {},
   "outputs": [
    {
     "data": {
      "text/html": [
       "<div>\n",
       "<style scoped>\n",
       "    .dataframe tbody tr th:only-of-type {\n",
       "        vertical-align: middle;\n",
       "    }\n",
       "\n",
       "    .dataframe tbody tr th {\n",
       "        vertical-align: top;\n",
       "    }\n",
       "\n",
       "    .dataframe thead th {\n",
       "        text-align: right;\n",
       "    }\n",
       "</style>\n",
       "<table border=\"1\" class=\"dataframe\">\n",
       "  <thead>\n",
       "    <tr style=\"text-align: right;\">\n",
       "      <th></th>\n",
       "      <th>_id</th>\n",
       "      <th>created_at</th>\n",
       "      <th>full_text</th>\n",
       "      <th>truncated</th>\n",
       "      <th>display_text_range</th>\n",
       "      <th>entities</th>\n",
       "      <th>metadata</th>\n",
       "      <th>source</th>\n",
       "      <th>in_reply_to_status_id</th>\n",
       "      <th>in_reply_to_status_id_str</th>\n",
       "      <th>...</th>\n",
       "      <th>possibly_sensitive</th>\n",
       "      <th>extended_entities</th>\n",
       "      <th>quoted_status_id</th>\n",
       "      <th>quoted_status_id_str</th>\n",
       "      <th>quoted_status</th>\n",
       "      <th>withheld_in_countries</th>\n",
       "      <th>day</th>\n",
       "      <th>hour_of_day</th>\n",
       "      <th>minute</th>\n",
       "      <th>second</th>\n",
       "    </tr>\n",
       "  </thead>\n",
       "  <tbody>\n",
       "    <tr>\n",
       "      <th>3466</th>\n",
       "      <td>1556324794668560384</td>\n",
       "      <td>2022-08-07 17:02:00</td>\n",
       "      <td>RT @furqanraja1122: The deputy head of Taiwan ...</td>\n",
       "      <td>False</td>\n",
       "      <td>[0, 140]</td>\n",
       "      <td>{'hashtags': [], 'symbols': [], 'user_mentions...</td>\n",
       "      <td>{'iso_language_code': 'en', 'result_type': 're...</td>\n",
       "      <td>&lt;a href=\"http://twitter.com/download/iphone\" r...</td>\n",
       "      <td>NaN</td>\n",
       "      <td>NaN</td>\n",
       "      <td>...</td>\n",
       "      <td>NaN</td>\n",
       "      <td>NaN</td>\n",
       "      <td>NaN</td>\n",
       "      <td>NaN</td>\n",
       "      <td>NaN</td>\n",
       "      <td>[IN]</td>\n",
       "      <td>7</td>\n",
       "      <td>17</td>\n",
       "      <td>2</td>\n",
       "      <td>0</td>\n",
       "    </tr>\n",
       "    <tr>\n",
       "      <th>3646</th>\n",
       "      <td>1556322187522351107</td>\n",
       "      <td>2022-08-07 16:51:39</td>\n",
       "      <td>#China keeps up pressure as #Taiwan detects 66...</td>\n",
       "      <td>False</td>\n",
       "      <td>[0, 112]</td>\n",
       "      <td>{'hashtags': [{'text': 'China', 'indices': [0,...</td>\n",
       "      <td>{'iso_language_code': 'en', 'result_type': 're...</td>\n",
       "      <td>&lt;a href=\"https://about.twitter.com/products/tw...</td>\n",
       "      <td>NaN</td>\n",
       "      <td>NaN</td>\n",
       "      <td>...</td>\n",
       "      <td>0.0</td>\n",
       "      <td>NaN</td>\n",
       "      <td>NaN</td>\n",
       "      <td>NaN</td>\n",
       "      <td>NaN</td>\n",
       "      <td>[IN]</td>\n",
       "      <td>7</td>\n",
       "      <td>16</td>\n",
       "      <td>51</td>\n",
       "      <td>39</td>\n",
       "    </tr>\n",
       "    <tr>\n",
       "      <th>8098</th>\n",
       "      <td>1556264097477529600</td>\n",
       "      <td>2022-08-07 13:00:49</td>\n",
       "      <td>RT @mobyshah: My blog on economic implications...</td>\n",
       "      <td>False</td>\n",
       "      <td>[0, 140]</td>\n",
       "      <td>{'hashtags': [], 'symbols': [], 'user_mentions...</td>\n",
       "      <td>{'iso_language_code': 'en', 'result_type': 're...</td>\n",
       "      <td>&lt;a href=\"http://twitter.com/download/android\" ...</td>\n",
       "      <td>NaN</td>\n",
       "      <td>NaN</td>\n",
       "      <td>...</td>\n",
       "      <td>NaN</td>\n",
       "      <td>NaN</td>\n",
       "      <td>NaN</td>\n",
       "      <td>NaN</td>\n",
       "      <td>NaN</td>\n",
       "      <td>[IN]</td>\n",
       "      <td>7</td>\n",
       "      <td>13</td>\n",
       "      <td>0</td>\n",
       "      <td>49</td>\n",
       "    </tr>\n",
       "    <tr>\n",
       "      <th>8842</th>\n",
       "      <td>1556253180291342336</td>\n",
       "      <td>2022-08-07 12:17:26</td>\n",
       "      <td>My blog on economic implications of the Indian...</td>\n",
       "      <td>False</td>\n",
       "      <td>[0, 274]</td>\n",
       "      <td>{'hashtags': [{'text': 'XiJinping', 'indices':...</td>\n",
       "      <td>{'iso_language_code': 'en', 'result_type': 're...</td>\n",
       "      <td>&lt;a href=\"http://twitter.com/download/iphone\" r...</td>\n",
       "      <td>NaN</td>\n",
       "      <td>NaN</td>\n",
       "      <td>...</td>\n",
       "      <td>0.0</td>\n",
       "      <td>NaN</td>\n",
       "      <td>NaN</td>\n",
       "      <td>NaN</td>\n",
       "      <td>NaN</td>\n",
       "      <td>[IN]</td>\n",
       "      <td>7</td>\n",
       "      <td>12</td>\n",
       "      <td>17</td>\n",
       "      <td>26</td>\n",
       "    </tr>\n",
       "    <tr>\n",
       "      <th>9278</th>\n",
       "      <td>1556245889173405699</td>\n",
       "      <td>2022-08-07 11:48:28</td>\n",
       "      <td>RT @SputnikInt: UK Media Claims #China Prepari...</td>\n",
       "      <td>False</td>\n",
       "      <td>[0, 136]</td>\n",
       "      <td>{'hashtags': [{'text': 'China', 'indices': [32...</td>\n",
       "      <td>{'iso_language_code': 'en', 'result_type': 're...</td>\n",
       "      <td>&lt;a href=\"https://mobile.twitter.com\" rel=\"nofo...</td>\n",
       "      <td>NaN</td>\n",
       "      <td>NaN</td>\n",
       "      <td>...</td>\n",
       "      <td>0.0</td>\n",
       "      <td>{'media': [{'id': 1556232091892797440, 'id_str...</td>\n",
       "      <td>NaN</td>\n",
       "      <td>NaN</td>\n",
       "      <td>NaN</td>\n",
       "      <td>[AT, BE, BG, CY, CZ, DE, DK, EE, ES, FI, FR, G...</td>\n",
       "      <td>7</td>\n",
       "      <td>11</td>\n",
       "      <td>48</td>\n",
       "      <td>28</td>\n",
       "    </tr>\n",
       "    <tr>\n",
       "      <th>9938</th>\n",
       "      <td>1556235066799542278</td>\n",
       "      <td>2022-08-07 11:05:28</td>\n",
       "      <td>RT @SputnikInt: UK Media Claims #China Prepari...</td>\n",
       "      <td>False</td>\n",
       "      <td>[0, 136]</td>\n",
       "      <td>{'hashtags': [{'text': 'China', 'indices': [32...</td>\n",
       "      <td>{'iso_language_code': 'en', 'result_type': 're...</td>\n",
       "      <td>&lt;a href=\"https://mobile.twitter.com\" rel=\"nofo...</td>\n",
       "      <td>NaN</td>\n",
       "      <td>NaN</td>\n",
       "      <td>...</td>\n",
       "      <td>0.0</td>\n",
       "      <td>{'media': [{'id': 1556232091892797440, 'id_str...</td>\n",
       "      <td>NaN</td>\n",
       "      <td>NaN</td>\n",
       "      <td>NaN</td>\n",
       "      <td>[AT, BE, BG, CY, CZ, DE, DK, EE, ES, FI, FR, G...</td>\n",
       "      <td>7</td>\n",
       "      <td>11</td>\n",
       "      <td>5</td>\n",
       "      <td>28</td>\n",
       "    </tr>\n",
       "    <tr>\n",
       "      <th>10017</th>\n",
       "      <td>1556233699632578561</td>\n",
       "      <td>2022-08-07 11:00:02</td>\n",
       "      <td>RT @SputnikInt: UK Media Claims #China Prepari...</td>\n",
       "      <td>False</td>\n",
       "      <td>[0, 136]</td>\n",
       "      <td>{'hashtags': [{'text': 'China', 'indices': [32...</td>\n",
       "      <td>{'iso_language_code': 'en', 'result_type': 're...</td>\n",
       "      <td>&lt;a href=\"https://twitter.com/ViRiYaBOT\" rel=\"n...</td>\n",
       "      <td>NaN</td>\n",
       "      <td>NaN</td>\n",
       "      <td>...</td>\n",
       "      <td>0.0</td>\n",
       "      <td>{'media': [{'id': 1556232091892797440, 'id_str...</td>\n",
       "      <td>NaN</td>\n",
       "      <td>NaN</td>\n",
       "      <td>NaN</td>\n",
       "      <td>[AT, BE, BG, CY, CZ, DE, DK, EE, ES, FI, FR, G...</td>\n",
       "      <td>7</td>\n",
       "      <td>11</td>\n",
       "      <td>0</td>\n",
       "      <td>2</td>\n",
       "    </tr>\n",
       "    <tr>\n",
       "      <th>10109</th>\n",
       "      <td>1556232093939560453</td>\n",
       "      <td>2022-08-07 10:53:39</td>\n",
       "      <td>UK Media Claims #China Preparing 48-Hour Blitz...</td>\n",
       "      <td>False</td>\n",
       "      <td>[0, 96]</td>\n",
       "      <td>{'hashtags': [{'text': 'China', 'indices': [16...</td>\n",
       "      <td>{'iso_language_code': 'en', 'result_type': 're...</td>\n",
       "      <td>&lt;a href=\"https://dlvrit.com/\" rel=\"nofollow\"&gt;d...</td>\n",
       "      <td>NaN</td>\n",
       "      <td>NaN</td>\n",
       "      <td>...</td>\n",
       "      <td>0.0</td>\n",
       "      <td>{'media': [{'id': 1556232091892797440, 'id_str...</td>\n",
       "      <td>NaN</td>\n",
       "      <td>NaN</td>\n",
       "      <td>NaN</td>\n",
       "      <td>[AT, BE, BG, CY, CZ, DE, DK, EE, ES, FI, FR, G...</td>\n",
       "      <td>7</td>\n",
       "      <td>10</td>\n",
       "      <td>53</td>\n",
       "      <td>39</td>\n",
       "    </tr>\n",
       "    <tr>\n",
       "      <th>10166</th>\n",
       "      <td>1556231139861438468</td>\n",
       "      <td>2022-08-07 10:49:51</td>\n",
       "      <td>RT @libijian2: More footage of the third day o...</td>\n",
       "      <td>False</td>\n",
       "      <td>[0, 140]</td>\n",
       "      <td>{'hashtags': [{'text': 'PLA', 'indices': [52, ...</td>\n",
       "      <td>{'iso_language_code': 'en', 'result_type': 're...</td>\n",
       "      <td>&lt;a href=\"http://twitter.com/download/android\" ...</td>\n",
       "      <td>NaN</td>\n",
       "      <td>NaN</td>\n",
       "      <td>...</td>\n",
       "      <td>NaN</td>\n",
       "      <td>NaN</td>\n",
       "      <td>NaN</td>\n",
       "      <td>NaN</td>\n",
       "      <td>NaN</td>\n",
       "      <td>[IN]</td>\n",
       "      <td>7</td>\n",
       "      <td>10</td>\n",
       "      <td>49</td>\n",
       "      <td>51</td>\n",
       "    </tr>\n",
       "    <tr>\n",
       "      <th>11490</th>\n",
       "      <td>1556207010177327105</td>\n",
       "      <td>2022-08-07 09:13:58</td>\n",
       "      <td>RT @CGMeifangZhang: #JUSTIN A 100-second revie...</td>\n",
       "      <td>False</td>\n",
       "      <td>[0, 140]</td>\n",
       "      <td>{'hashtags': [{'text': 'JUSTIN', 'indices': [2...</td>\n",
       "      <td>{'iso_language_code': 'en', 'result_type': 're...</td>\n",
       "      <td>&lt;a href=\"http://twitter.com/download/android\" ...</td>\n",
       "      <td>NaN</td>\n",
       "      <td>NaN</td>\n",
       "      <td>...</td>\n",
       "      <td>NaN</td>\n",
       "      <td>NaN</td>\n",
       "      <td>NaN</td>\n",
       "      <td>NaN</td>\n",
       "      <td>NaN</td>\n",
       "      <td>[IN]</td>\n",
       "      <td>7</td>\n",
       "      <td>9</td>\n",
       "      <td>13</td>\n",
       "      <td>58</td>\n",
       "    </tr>\n",
       "    <tr>\n",
       "      <th>11899</th>\n",
       "      <td>1556199898583896067</td>\n",
       "      <td>2022-08-07 08:45:43</td>\n",
       "      <td>RT @ThePakDaily: Pakistan’s Ambassador to Chin...</td>\n",
       "      <td>False</td>\n",
       "      <td>[0, 140]</td>\n",
       "      <td>{'hashtags': [], 'symbols': [], 'user_mentions...</td>\n",
       "      <td>{'iso_language_code': 'en', 'result_type': 're...</td>\n",
       "      <td>&lt;a href=\"http://twitter.com/download/android\" ...</td>\n",
       "      <td>NaN</td>\n",
       "      <td>NaN</td>\n",
       "      <td>...</td>\n",
       "      <td>NaN</td>\n",
       "      <td>NaN</td>\n",
       "      <td>NaN</td>\n",
       "      <td>NaN</td>\n",
       "      <td>NaN</td>\n",
       "      <td>[IN]</td>\n",
       "      <td>7</td>\n",
       "      <td>8</td>\n",
       "      <td>45</td>\n",
       "      <td>43</td>\n",
       "    </tr>\n",
       "    <tr>\n",
       "      <th>12590</th>\n",
       "      <td>1556188097129357312</td>\n",
       "      <td>2022-08-07 07:58:49</td>\n",
       "      <td>RT @furqanraja1122: Chinese Hackers hacked the...</td>\n",
       "      <td>False</td>\n",
       "      <td>[0, 140]</td>\n",
       "      <td>{'hashtags': [], 'symbols': [], 'user_mentions...</td>\n",
       "      <td>{'iso_language_code': 'en', 'result_type': 're...</td>\n",
       "      <td>&lt;a href=\"http://twitter.com/download/android\" ...</td>\n",
       "      <td>NaN</td>\n",
       "      <td>NaN</td>\n",
       "      <td>...</td>\n",
       "      <td>NaN</td>\n",
       "      <td>NaN</td>\n",
       "      <td>NaN</td>\n",
       "      <td>NaN</td>\n",
       "      <td>NaN</td>\n",
       "      <td>[IN]</td>\n",
       "      <td>7</td>\n",
       "      <td>7</td>\n",
       "      <td>58</td>\n",
       "      <td>49</td>\n",
       "    </tr>\n",
       "    <tr>\n",
       "      <th>12658</th>\n",
       "      <td>1556186601625206784</td>\n",
       "      <td>2022-08-07 07:52:53</td>\n",
       "      <td>Chinese Hackers hacked the broadcasts of sever...</td>\n",
       "      <td>False</td>\n",
       "      <td>[0, 239]</td>\n",
       "      <td>{'hashtags': [{'text': 'China', 'indices': [19...</td>\n",
       "      <td>{'iso_language_code': 'en', 'result_type': 're...</td>\n",
       "      <td>&lt;a href=\"http://twitter.com/download/android\" ...</td>\n",
       "      <td>NaN</td>\n",
       "      <td>NaN</td>\n",
       "      <td>...</td>\n",
       "      <td>0.0</td>\n",
       "      <td>{'media': [{'id': 1556186575763038210, 'id_str...</td>\n",
       "      <td>NaN</td>\n",
       "      <td>NaN</td>\n",
       "      <td>NaN</td>\n",
       "      <td>[IN]</td>\n",
       "      <td>7</td>\n",
       "      <td>7</td>\n",
       "      <td>52</td>\n",
       "      <td>53</td>\n",
       "    </tr>\n",
       "    <tr>\n",
       "      <th>16600</th>\n",
       "      <td>1556108892697858048</td>\n",
       "      <td>2022-08-07 02:44:05</td>\n",
       "      <td>Germany’s economy is on the brink of collapse ...</td>\n",
       "      <td>False</td>\n",
       "      <td>[0, 239]</td>\n",
       "      <td>{'hashtags': [{'text': 'Russia', 'indices': [8...</td>\n",
       "      <td>{'iso_language_code': 'en', 'result_type': 're...</td>\n",
       "      <td>&lt;a href=\"http://twitter.com/download/iphone\" r...</td>\n",
       "      <td>NaN</td>\n",
       "      <td>NaN</td>\n",
       "      <td>...</td>\n",
       "      <td>0.0</td>\n",
       "      <td>NaN</td>\n",
       "      <td>NaN</td>\n",
       "      <td>NaN</td>\n",
       "      <td>NaN</td>\n",
       "      <td>[RU]</td>\n",
       "      <td>7</td>\n",
       "      <td>2</td>\n",
       "      <td>44</td>\n",
       "      <td>5</td>\n",
       "    </tr>\n",
       "    <tr>\n",
       "      <th>16697</th>\n",
       "      <td>1556106787606102016</td>\n",
       "      <td>2022-08-07 02:35:43</td>\n",
       "      <td>RT @SputnikInt: Pelosi’s #Taiwan Trip Played I...</td>\n",
       "      <td>False</td>\n",
       "      <td>[0, 123]</td>\n",
       "      <td>{'hashtags': [{'text': 'Taiwan', 'indices': [2...</td>\n",
       "      <td>{'iso_language_code': 'en', 'result_type': 're...</td>\n",
       "      <td>&lt;a href=\"http://twitter.com/download/android\" ...</td>\n",
       "      <td>NaN</td>\n",
       "      <td>NaN</td>\n",
       "      <td>...</td>\n",
       "      <td>0.0</td>\n",
       "      <td>{'media': [{'id': 1556104865037762560, 'id_str...</td>\n",
       "      <td>NaN</td>\n",
       "      <td>NaN</td>\n",
       "      <td>NaN</td>\n",
       "      <td>[AT, BE, BG, CY, CZ, DE, DK, EE, ES, FI, FR, G...</td>\n",
       "      <td>7</td>\n",
       "      <td>2</td>\n",
       "      <td>35</td>\n",
       "      <td>43</td>\n",
       "    </tr>\n",
       "    <tr>\n",
       "      <th>16759</th>\n",
       "      <td>1556105354093682691</td>\n",
       "      <td>2022-08-07 02:30:02</td>\n",
       "      <td>RT @SputnikInt: Pelosi’s #Taiwan Trip Played I...</td>\n",
       "      <td>False</td>\n",
       "      <td>[0, 123]</td>\n",
       "      <td>{'hashtags': [{'text': 'Taiwan', 'indices': [2...</td>\n",
       "      <td>{'iso_language_code': 'en', 'result_type': 're...</td>\n",
       "      <td>&lt;a href=\"https://twitter.com/ViRiYaBOT\" rel=\"n...</td>\n",
       "      <td>NaN</td>\n",
       "      <td>NaN</td>\n",
       "      <td>...</td>\n",
       "      <td>0.0</td>\n",
       "      <td>{'media': [{'id': 1556104865037762560, 'id_str...</td>\n",
       "      <td>NaN</td>\n",
       "      <td>NaN</td>\n",
       "      <td>NaN</td>\n",
       "      <td>[AT, BE, BG, CY, CZ, DE, DK, EE, ES, FI, FR, G...</td>\n",
       "      <td>7</td>\n",
       "      <td>2</td>\n",
       "      <td>30</td>\n",
       "      <td>2</td>\n",
       "    </tr>\n",
       "    <tr>\n",
       "      <th>16781</th>\n",
       "      <td>1556104866883256320</td>\n",
       "      <td>2022-08-07 02:28:05</td>\n",
       "      <td>Pelosi’s #Taiwan Trip Played Into China’s Hand...</td>\n",
       "      <td>False</td>\n",
       "      <td>[0, 83]</td>\n",
       "      <td>{'hashtags': [{'text': 'Taiwan', 'indices': [9...</td>\n",
       "      <td>{'iso_language_code': 'en', 'result_type': 're...</td>\n",
       "      <td>&lt;a href=\"https://dlvrit.com/\" rel=\"nofollow\"&gt;d...</td>\n",
       "      <td>NaN</td>\n",
       "      <td>NaN</td>\n",
       "      <td>...</td>\n",
       "      <td>0.0</td>\n",
       "      <td>{'media': [{'id': 1556104865037762560, 'id_str...</td>\n",
       "      <td>NaN</td>\n",
       "      <td>NaN</td>\n",
       "      <td>NaN</td>\n",
       "      <td>[AT, BE, BG, CY, CZ, DE, DK, EE, ES, FI, FR, G...</td>\n",
       "      <td>7</td>\n",
       "      <td>2</td>\n",
       "      <td>28</td>\n",
       "      <td>5</td>\n",
       "    </tr>\n",
       "    <tr>\n",
       "      <th>16945</th>\n",
       "      <td>1556100416034963456</td>\n",
       "      <td>2022-08-07 02:10:24</td>\n",
       "      <td>RT @furqanraja1122: The deputy head of Taiwan ...</td>\n",
       "      <td>False</td>\n",
       "      <td>[0, 140]</td>\n",
       "      <td>{'hashtags': [], 'symbols': [], 'user_mentions...</td>\n",
       "      <td>{'iso_language_code': 'en', 'result_type': 're...</td>\n",
       "      <td>&lt;a href=\"http://janetter.net/\" rel=\"nofollow\"&gt;...</td>\n",
       "      <td>NaN</td>\n",
       "      <td>NaN</td>\n",
       "      <td>...</td>\n",
       "      <td>NaN</td>\n",
       "      <td>NaN</td>\n",
       "      <td>NaN</td>\n",
       "      <td>NaN</td>\n",
       "      <td>NaN</td>\n",
       "      <td>[IN]</td>\n",
       "      <td>7</td>\n",
       "      <td>2</td>\n",
       "      <td>10</td>\n",
       "      <td>24</td>\n",
       "    </tr>\n",
       "    <tr>\n",
       "      <th>20911</th>\n",
       "      <td>1555998096676360192</td>\n",
       "      <td>2022-08-06 19:23:49</td>\n",
       "      <td>RT @furqanraja1122: The deputy head of Taiwan ...</td>\n",
       "      <td>False</td>\n",
       "      <td>[0, 140]</td>\n",
       "      <td>{'hashtags': [], 'symbols': [], 'user_mentions...</td>\n",
       "      <td>{'iso_language_code': 'en', 'result_type': 're...</td>\n",
       "      <td>&lt;a href=\"http://twitter.com/download/android\" ...</td>\n",
       "      <td>NaN</td>\n",
       "      <td>NaN</td>\n",
       "      <td>...</td>\n",
       "      <td>NaN</td>\n",
       "      <td>NaN</td>\n",
       "      <td>NaN</td>\n",
       "      <td>NaN</td>\n",
       "      <td>NaN</td>\n",
       "      <td>[IN]</td>\n",
       "      <td>6</td>\n",
       "      <td>19</td>\n",
       "      <td>23</td>\n",
       "      <td>49</td>\n",
       "    </tr>\n",
       "    <tr>\n",
       "      <th>20975</th>\n",
       "      <td>1555996994275086338</td>\n",
       "      <td>2022-08-06 19:19:27</td>\n",
       "      <td>RT @O_Mirzya: #GazaUnderAttack #CWG22 #Israeli...</td>\n",
       "      <td>False</td>\n",
       "      <td>[0, 140]</td>\n",
       "      <td>{'hashtags': [{'text': 'GazaUnderAttack', 'ind...</td>\n",
       "      <td>{'iso_language_code': 'en', 'result_type': 're...</td>\n",
       "      <td>&lt;a href=\"http://twitter.com/download/android\" ...</td>\n",
       "      <td>NaN</td>\n",
       "      <td>NaN</td>\n",
       "      <td>...</td>\n",
       "      <td>NaN</td>\n",
       "      <td>NaN</td>\n",
       "      <td>NaN</td>\n",
       "      <td>NaN</td>\n",
       "      <td>NaN</td>\n",
       "      <td>[IN]</td>\n",
       "      <td>6</td>\n",
       "      <td>19</td>\n",
       "      <td>19</td>\n",
       "      <td>27</td>\n",
       "    </tr>\n",
       "    <tr>\n",
       "      <th>21081</th>\n",
       "      <td>1555995024567013379</td>\n",
       "      <td>2022-08-06 19:11:37</td>\n",
       "      <td>#GazaUnderAttack #CWG22 #IsraeliTerrorism #ام_...</td>\n",
       "      <td>False</td>\n",
       "      <td>[0, 153]</td>\n",
       "      <td>{'hashtags': [{'text': 'GazaUnderAttack', 'ind...</td>\n",
       "      <td>{'iso_language_code': 'en', 'result_type': 're...</td>\n",
       "      <td>&lt;a href=\"http://twitter.com/download/android\" ...</td>\n",
       "      <td>NaN</td>\n",
       "      <td>NaN</td>\n",
       "      <td>...</td>\n",
       "      <td>0.0</td>\n",
       "      <td>{'media': [{'id': 1555995004740554756, 'id_str...</td>\n",
       "      <td>NaN</td>\n",
       "      <td>NaN</td>\n",
       "      <td>NaN</td>\n",
       "      <td>[IN]</td>\n",
       "      <td>6</td>\n",
       "      <td>19</td>\n",
       "      <td>11</td>\n",
       "      <td>37</td>\n",
       "    </tr>\n",
       "    <tr>\n",
       "      <th>21307</th>\n",
       "      <td>1555990322693431296</td>\n",
       "      <td>2022-08-06 18:52:56</td>\n",
       "      <td>RT @Dareenkhann: A Palestinian teen cries in p...</td>\n",
       "      <td>False</td>\n",
       "      <td>[0, 139]</td>\n",
       "      <td>{'hashtags': [{'text': 'GazaUnderAttack', 'ind...</td>\n",
       "      <td>{'iso_language_code': 'en', 'result_type': 're...</td>\n",
       "      <td>&lt;a href=\"http://twitter.com/download/android\" ...</td>\n",
       "      <td>NaN</td>\n",
       "      <td>NaN</td>\n",
       "      <td>...</td>\n",
       "      <td>NaN</td>\n",
       "      <td>NaN</td>\n",
       "      <td>NaN</td>\n",
       "      <td>NaN</td>\n",
       "      <td>NaN</td>\n",
       "      <td>[IN]</td>\n",
       "      <td>6</td>\n",
       "      <td>18</td>\n",
       "      <td>52</td>\n",
       "      <td>56</td>\n",
       "    </tr>\n",
       "  </tbody>\n",
       "</table>\n",
       "<p>22 rows × 35 columns</p>\n",
       "</div>"
      ],
      "text/plain": [
       "                       _id          created_at  \\\n",
       "3466   1556324794668560384 2022-08-07 17:02:00   \n",
       "3646   1556322187522351107 2022-08-07 16:51:39   \n",
       "8098   1556264097477529600 2022-08-07 13:00:49   \n",
       "8842   1556253180291342336 2022-08-07 12:17:26   \n",
       "9278   1556245889173405699 2022-08-07 11:48:28   \n",
       "9938   1556235066799542278 2022-08-07 11:05:28   \n",
       "10017  1556233699632578561 2022-08-07 11:00:02   \n",
       "10109  1556232093939560453 2022-08-07 10:53:39   \n",
       "10166  1556231139861438468 2022-08-07 10:49:51   \n",
       "11490  1556207010177327105 2022-08-07 09:13:58   \n",
       "11899  1556199898583896067 2022-08-07 08:45:43   \n",
       "12590  1556188097129357312 2022-08-07 07:58:49   \n",
       "12658  1556186601625206784 2022-08-07 07:52:53   \n",
       "16600  1556108892697858048 2022-08-07 02:44:05   \n",
       "16697  1556106787606102016 2022-08-07 02:35:43   \n",
       "16759  1556105354093682691 2022-08-07 02:30:02   \n",
       "16781  1556104866883256320 2022-08-07 02:28:05   \n",
       "16945  1556100416034963456 2022-08-07 02:10:24   \n",
       "20911  1555998096676360192 2022-08-06 19:23:49   \n",
       "20975  1555996994275086338 2022-08-06 19:19:27   \n",
       "21081  1555995024567013379 2022-08-06 19:11:37   \n",
       "21307  1555990322693431296 2022-08-06 18:52:56   \n",
       "\n",
       "                                               full_text  truncated  \\\n",
       "3466   RT @furqanraja1122: The deputy head of Taiwan ...      False   \n",
       "3646   #China keeps up pressure as #Taiwan detects 66...      False   \n",
       "8098   RT @mobyshah: My blog on economic implications...      False   \n",
       "8842   My blog on economic implications of the Indian...      False   \n",
       "9278   RT @SputnikInt: UK Media Claims #China Prepari...      False   \n",
       "9938   RT @SputnikInt: UK Media Claims #China Prepari...      False   \n",
       "10017  RT @SputnikInt: UK Media Claims #China Prepari...      False   \n",
       "10109  UK Media Claims #China Preparing 48-Hour Blitz...      False   \n",
       "10166  RT @libijian2: More footage of the third day o...      False   \n",
       "11490  RT @CGMeifangZhang: #JUSTIN A 100-second revie...      False   \n",
       "11899  RT @ThePakDaily: Pakistan’s Ambassador to Chin...      False   \n",
       "12590  RT @furqanraja1122: Chinese Hackers hacked the...      False   \n",
       "12658  Chinese Hackers hacked the broadcasts of sever...      False   \n",
       "16600  Germany’s economy is on the brink of collapse ...      False   \n",
       "16697  RT @SputnikInt: Pelosi’s #Taiwan Trip Played I...      False   \n",
       "16759  RT @SputnikInt: Pelosi’s #Taiwan Trip Played I...      False   \n",
       "16781  Pelosi’s #Taiwan Trip Played Into China’s Hand...      False   \n",
       "16945  RT @furqanraja1122: The deputy head of Taiwan ...      False   \n",
       "20911  RT @furqanraja1122: The deputy head of Taiwan ...      False   \n",
       "20975  RT @O_Mirzya: #GazaUnderAttack #CWG22 #Israeli...      False   \n",
       "21081  #GazaUnderAttack #CWG22 #IsraeliTerrorism #ام_...      False   \n",
       "21307  RT @Dareenkhann: A Palestinian teen cries in p...      False   \n",
       "\n",
       "      display_text_range                                           entities  \\\n",
       "3466            [0, 140]  {'hashtags': [], 'symbols': [], 'user_mentions...   \n",
       "3646            [0, 112]  {'hashtags': [{'text': 'China', 'indices': [0,...   \n",
       "8098            [0, 140]  {'hashtags': [], 'symbols': [], 'user_mentions...   \n",
       "8842            [0, 274]  {'hashtags': [{'text': 'XiJinping', 'indices':...   \n",
       "9278            [0, 136]  {'hashtags': [{'text': 'China', 'indices': [32...   \n",
       "9938            [0, 136]  {'hashtags': [{'text': 'China', 'indices': [32...   \n",
       "10017           [0, 136]  {'hashtags': [{'text': 'China', 'indices': [32...   \n",
       "10109            [0, 96]  {'hashtags': [{'text': 'China', 'indices': [16...   \n",
       "10166           [0, 140]  {'hashtags': [{'text': 'PLA', 'indices': [52, ...   \n",
       "11490           [0, 140]  {'hashtags': [{'text': 'JUSTIN', 'indices': [2...   \n",
       "11899           [0, 140]  {'hashtags': [], 'symbols': [], 'user_mentions...   \n",
       "12590           [0, 140]  {'hashtags': [], 'symbols': [], 'user_mentions...   \n",
       "12658           [0, 239]  {'hashtags': [{'text': 'China', 'indices': [19...   \n",
       "16600           [0, 239]  {'hashtags': [{'text': 'Russia', 'indices': [8...   \n",
       "16697           [0, 123]  {'hashtags': [{'text': 'Taiwan', 'indices': [2...   \n",
       "16759           [0, 123]  {'hashtags': [{'text': 'Taiwan', 'indices': [2...   \n",
       "16781            [0, 83]  {'hashtags': [{'text': 'Taiwan', 'indices': [9...   \n",
       "16945           [0, 140]  {'hashtags': [], 'symbols': [], 'user_mentions...   \n",
       "20911           [0, 140]  {'hashtags': [], 'symbols': [], 'user_mentions...   \n",
       "20975           [0, 140]  {'hashtags': [{'text': 'GazaUnderAttack', 'ind...   \n",
       "21081           [0, 153]  {'hashtags': [{'text': 'GazaUnderAttack', 'ind...   \n",
       "21307           [0, 139]  {'hashtags': [{'text': 'GazaUnderAttack', 'ind...   \n",
       "\n",
       "                                                metadata  \\\n",
       "3466   {'iso_language_code': 'en', 'result_type': 're...   \n",
       "3646   {'iso_language_code': 'en', 'result_type': 're...   \n",
       "8098   {'iso_language_code': 'en', 'result_type': 're...   \n",
       "8842   {'iso_language_code': 'en', 'result_type': 're...   \n",
       "9278   {'iso_language_code': 'en', 'result_type': 're...   \n",
       "9938   {'iso_language_code': 'en', 'result_type': 're...   \n",
       "10017  {'iso_language_code': 'en', 'result_type': 're...   \n",
       "10109  {'iso_language_code': 'en', 'result_type': 're...   \n",
       "10166  {'iso_language_code': 'en', 'result_type': 're...   \n",
       "11490  {'iso_language_code': 'en', 'result_type': 're...   \n",
       "11899  {'iso_language_code': 'en', 'result_type': 're...   \n",
       "12590  {'iso_language_code': 'en', 'result_type': 're...   \n",
       "12658  {'iso_language_code': 'en', 'result_type': 're...   \n",
       "16600  {'iso_language_code': 'en', 'result_type': 're...   \n",
       "16697  {'iso_language_code': 'en', 'result_type': 're...   \n",
       "16759  {'iso_language_code': 'en', 'result_type': 're...   \n",
       "16781  {'iso_language_code': 'en', 'result_type': 're...   \n",
       "16945  {'iso_language_code': 'en', 'result_type': 're...   \n",
       "20911  {'iso_language_code': 'en', 'result_type': 're...   \n",
       "20975  {'iso_language_code': 'en', 'result_type': 're...   \n",
       "21081  {'iso_language_code': 'en', 'result_type': 're...   \n",
       "21307  {'iso_language_code': 'en', 'result_type': 're...   \n",
       "\n",
       "                                                  source  \\\n",
       "3466   <a href=\"http://twitter.com/download/iphone\" r...   \n",
       "3646   <a href=\"https://about.twitter.com/products/tw...   \n",
       "8098   <a href=\"http://twitter.com/download/android\" ...   \n",
       "8842   <a href=\"http://twitter.com/download/iphone\" r...   \n",
       "9278   <a href=\"https://mobile.twitter.com\" rel=\"nofo...   \n",
       "9938   <a href=\"https://mobile.twitter.com\" rel=\"nofo...   \n",
       "10017  <a href=\"https://twitter.com/ViRiYaBOT\" rel=\"n...   \n",
       "10109  <a href=\"https://dlvrit.com/\" rel=\"nofollow\">d...   \n",
       "10166  <a href=\"http://twitter.com/download/android\" ...   \n",
       "11490  <a href=\"http://twitter.com/download/android\" ...   \n",
       "11899  <a href=\"http://twitter.com/download/android\" ...   \n",
       "12590  <a href=\"http://twitter.com/download/android\" ...   \n",
       "12658  <a href=\"http://twitter.com/download/android\" ...   \n",
       "16600  <a href=\"http://twitter.com/download/iphone\" r...   \n",
       "16697  <a href=\"http://twitter.com/download/android\" ...   \n",
       "16759  <a href=\"https://twitter.com/ViRiYaBOT\" rel=\"n...   \n",
       "16781  <a href=\"https://dlvrit.com/\" rel=\"nofollow\">d...   \n",
       "16945  <a href=\"http://janetter.net/\" rel=\"nofollow\">...   \n",
       "20911  <a href=\"http://twitter.com/download/android\" ...   \n",
       "20975  <a href=\"http://twitter.com/download/android\" ...   \n",
       "21081  <a href=\"http://twitter.com/download/android\" ...   \n",
       "21307  <a href=\"http://twitter.com/download/android\" ...   \n",
       "\n",
       "       in_reply_to_status_id  in_reply_to_status_id_str  ...  \\\n",
       "3466                     NaN                        NaN  ...   \n",
       "3646                     NaN                        NaN  ...   \n",
       "8098                     NaN                        NaN  ...   \n",
       "8842                     NaN                        NaN  ...   \n",
       "9278                     NaN                        NaN  ...   \n",
       "9938                     NaN                        NaN  ...   \n",
       "10017                    NaN                        NaN  ...   \n",
       "10109                    NaN                        NaN  ...   \n",
       "10166                    NaN                        NaN  ...   \n",
       "11490                    NaN                        NaN  ...   \n",
       "11899                    NaN                        NaN  ...   \n",
       "12590                    NaN                        NaN  ...   \n",
       "12658                    NaN                        NaN  ...   \n",
       "16600                    NaN                        NaN  ...   \n",
       "16697                    NaN                        NaN  ...   \n",
       "16759                    NaN                        NaN  ...   \n",
       "16781                    NaN                        NaN  ...   \n",
       "16945                    NaN                        NaN  ...   \n",
       "20911                    NaN                        NaN  ...   \n",
       "20975                    NaN                        NaN  ...   \n",
       "21081                    NaN                        NaN  ...   \n",
       "21307                    NaN                        NaN  ...   \n",
       "\n",
       "       possibly_sensitive                                  extended_entities  \\\n",
       "3466                  NaN                                                NaN   \n",
       "3646                  0.0                                                NaN   \n",
       "8098                  NaN                                                NaN   \n",
       "8842                  0.0                                                NaN   \n",
       "9278                  0.0  {'media': [{'id': 1556232091892797440, 'id_str...   \n",
       "9938                  0.0  {'media': [{'id': 1556232091892797440, 'id_str...   \n",
       "10017                 0.0  {'media': [{'id': 1556232091892797440, 'id_str...   \n",
       "10109                 0.0  {'media': [{'id': 1556232091892797440, 'id_str...   \n",
       "10166                 NaN                                                NaN   \n",
       "11490                 NaN                                                NaN   \n",
       "11899                 NaN                                                NaN   \n",
       "12590                 NaN                                                NaN   \n",
       "12658                 0.0  {'media': [{'id': 1556186575763038210, 'id_str...   \n",
       "16600                 0.0                                                NaN   \n",
       "16697                 0.0  {'media': [{'id': 1556104865037762560, 'id_str...   \n",
       "16759                 0.0  {'media': [{'id': 1556104865037762560, 'id_str...   \n",
       "16781                 0.0  {'media': [{'id': 1556104865037762560, 'id_str...   \n",
       "16945                 NaN                                                NaN   \n",
       "20911                 NaN                                                NaN   \n",
       "20975                 NaN                                                NaN   \n",
       "21081                 0.0  {'media': [{'id': 1555995004740554756, 'id_str...   \n",
       "21307                 NaN                                                NaN   \n",
       "\n",
       "      quoted_status_id quoted_status_id_str  quoted_status  \\\n",
       "3466               NaN                  NaN            NaN   \n",
       "3646               NaN                  NaN            NaN   \n",
       "8098               NaN                  NaN            NaN   \n",
       "8842               NaN                  NaN            NaN   \n",
       "9278               NaN                  NaN            NaN   \n",
       "9938               NaN                  NaN            NaN   \n",
       "10017              NaN                  NaN            NaN   \n",
       "10109              NaN                  NaN            NaN   \n",
       "10166              NaN                  NaN            NaN   \n",
       "11490              NaN                  NaN            NaN   \n",
       "11899              NaN                  NaN            NaN   \n",
       "12590              NaN                  NaN            NaN   \n",
       "12658              NaN                  NaN            NaN   \n",
       "16600              NaN                  NaN            NaN   \n",
       "16697              NaN                  NaN            NaN   \n",
       "16759              NaN                  NaN            NaN   \n",
       "16781              NaN                  NaN            NaN   \n",
       "16945              NaN                  NaN            NaN   \n",
       "20911              NaN                  NaN            NaN   \n",
       "20975              NaN                  NaN            NaN   \n",
       "21081              NaN                  NaN            NaN   \n",
       "21307              NaN                  NaN            NaN   \n",
       "\n",
       "                                   withheld_in_countries day  hour_of_day  \\\n",
       "3466                                                [IN]   7           17   \n",
       "3646                                                [IN]   7           16   \n",
       "8098                                                [IN]   7           13   \n",
       "8842                                                [IN]   7           12   \n",
       "9278   [AT, BE, BG, CY, CZ, DE, DK, EE, ES, FI, FR, G...   7           11   \n",
       "9938   [AT, BE, BG, CY, CZ, DE, DK, EE, ES, FI, FR, G...   7           11   \n",
       "10017  [AT, BE, BG, CY, CZ, DE, DK, EE, ES, FI, FR, G...   7           11   \n",
       "10109  [AT, BE, BG, CY, CZ, DE, DK, EE, ES, FI, FR, G...   7           10   \n",
       "10166                                               [IN]   7           10   \n",
       "11490                                               [IN]   7            9   \n",
       "11899                                               [IN]   7            8   \n",
       "12590                                               [IN]   7            7   \n",
       "12658                                               [IN]   7            7   \n",
       "16600                                               [RU]   7            2   \n",
       "16697  [AT, BE, BG, CY, CZ, DE, DK, EE, ES, FI, FR, G...   7            2   \n",
       "16759  [AT, BE, BG, CY, CZ, DE, DK, EE, ES, FI, FR, G...   7            2   \n",
       "16781  [AT, BE, BG, CY, CZ, DE, DK, EE, ES, FI, FR, G...   7            2   \n",
       "16945                                               [IN]   7            2   \n",
       "20911                                               [IN]   6           19   \n",
       "20975                                               [IN]   6           19   \n",
       "21081                                               [IN]   6           19   \n",
       "21307                                               [IN]   6           18   \n",
       "\n",
       "      minute  second  \n",
       "3466       2       0  \n",
       "3646      51      39  \n",
       "8098       0      49  \n",
       "8842      17      26  \n",
       "9278      48      28  \n",
       "9938       5      28  \n",
       "10017      0       2  \n",
       "10109     53      39  \n",
       "10166     49      51  \n",
       "11490     13      58  \n",
       "11899     45      43  \n",
       "12590     58      49  \n",
       "12658     52      53  \n",
       "16600     44       5  \n",
       "16697     35      43  \n",
       "16759     30       2  \n",
       "16781     28       5  \n",
       "16945     10      24  \n",
       "20911     23      49  \n",
       "20975     19      27  \n",
       "21081     11      37  \n",
       "21307     52      56  \n",
       "\n",
       "[22 rows x 35 columns]"
      ]
     },
     "metadata": {},
     "output_type": "display_data"
    },
    {
     "data": {
      "text/plain": [
       "None"
      ]
     },
     "metadata": {},
     "output_type": "display_data"
    }
   ],
   "source": [
    "withheld_tweets = display(tweets_df[tweets_df['withheld_in_countries'].notnull()])\n",
    "display(withheld_tweets)"
   ]
  },
  {
   "attachments": {},
   "cell_type": "markdown",
   "metadata": {},
   "source": [
    "## Missing values <a class=\"anchor\" id=\"missing-values\"></a>"
   ]
  },
  {
   "cell_type": "code",
<<<<<<< HEAD
   "execution_count": 42,
=======
   "execution_count": 39,
>>>>>>> d06bdeef7e2d227bb594f2fa2dff0477f2688e1f
   "metadata": {},
   "outputs": [
    {
     "data": {
      "text/plain": [
       "_id                              0\n",
       "created_at                       0\n",
       "full_text                        0\n",
       "truncated                        0\n",
       "display_text_range               0\n",
       "entities                         0\n",
       "metadata                         0\n",
       "source                           0\n",
       "in_reply_to_status_id        21103\n",
       "in_reply_to_status_id_str    21103\n",
       "in_reply_to_user_id          21032\n",
       "in_reply_to_user_id_str      21032\n",
       "in_reply_to_screen_name      21032\n",
       "user                             0\n",
       "geo                          22000\n",
       "coordinates                  22000\n",
       "place                        21883\n",
       "contributors                 22000\n",
       "retweeted_status              4740\n",
       "is_quote_status                  0\n",
       "retweet_count                    0\n",
       "favorite_count                   0\n",
       "favorited                        0\n",
       "retweeted                        0\n",
       "lang                             0\n",
       "possibly_sensitive           15809\n",
       "extended_entities            18641\n",
       "quoted_status_id             20607\n",
       "quoted_status_id_str         20607\n",
       "quoted_status                21318\n",
       "withheld_in_countries        21978\n",
       "day                              0\n",
       "hour_of_day                      0\n",
       "minute                           0\n",
       "second                           0\n",
       "dtype: int64"
      ]
     },
<<<<<<< HEAD
     "execution_count": 42,
=======
     "execution_count": 39,
>>>>>>> d06bdeef7e2d227bb594f2fa2dff0477f2688e1f
     "metadata": {},
     "output_type": "execute_result"
    }
   ],
   "source": [
    "tweets_df.isna().sum()"
   ]
  },
  {
   "cell_type": "code",
<<<<<<< HEAD
   "execution_count": 43,
=======
   "execution_count": 40,
>>>>>>> d06bdeef7e2d227bb594f2fa2dff0477f2688e1f
   "metadata": {},
   "outputs": [
    {
     "data": {
      "text/plain": [
       "['_id',\n",
       " 'created_at',\n",
       " 'full_text',\n",
       " 'truncated',\n",
       " 'display_text_range',\n",
       " 'entities',\n",
       " 'metadata',\n",
       " 'source',\n",
       " 'user',\n",
       " 'is_quote_status',\n",
       " 'retweet_count',\n",
       " 'favorite_count',\n",
       " 'favorited',\n",
       " 'retweeted',\n",
       " 'lang',\n",
       " 'day',\n",
       " 'hour_of_day',\n",
       " 'minute',\n",
       " 'second']"
      ]
     },
<<<<<<< HEAD
     "execution_count": 43,
=======
     "execution_count": 40,
>>>>>>> d06bdeef7e2d227bb594f2fa2dff0477f2688e1f
     "metadata": {},
     "output_type": "execute_result"
    }
   ],
   "source": [
    "full_columns = tweets_df.columns[np.all(tweets_df.notnull(), axis=0)]\n",
    "list(full_columns)"
   ]
  },
  {
   "attachments": {},
   "cell_type": "markdown",
   "metadata": {},
   "source": [
    "15 columns with no empty values"
   ]
  },
  {
   "cell_type": "code",
<<<<<<< HEAD
   "execution_count": 44,
=======
   "execution_count": 41,
>>>>>>> d06bdeef7e2d227bb594f2fa2dff0477f2688e1f
   "metadata": {},
   "outputs": [
    {
     "data": {
      "text/plain": [
       "['geo', 'coordinates', 'contributors']"
      ]
     },
<<<<<<< HEAD
     "execution_count": 44,
=======
     "execution_count": 41,
>>>>>>> d06bdeef7e2d227bb594f2fa2dff0477f2688e1f
     "metadata": {},
     "output_type": "execute_result"
    }
   ],
   "source": [
    "empty_columns = tweets_df.columns[np.all(~tweets_df.notnull(), axis=0)]\n",
    "list(empty_columns)"
   ]
  },
  {
   "attachments": {},
   "cell_type": "markdown",
   "metadata": {},
   "source": [
    "3 columns are completely empty. The remaining 13 columns are partially filled."
   ]
  }
 ],
 "metadata": {
  "kernelspec": {
   "display_name": "Python 3",
   "language": "python",
   "name": "python3"
  },
  "language_info": {
   "codemirror_mode": {
    "name": "ipython",
    "version": 3
   },
   "file_extension": ".py",
   "mimetype": "text/x-python",
   "name": "python",
   "nbconvert_exporter": "python",
   "pygments_lexer": "ipython3",
   "version": "3.11.3"
  },
  "orig_nbformat": 4
 },
 "nbformat": 4,
 "nbformat_minor": 2
}
